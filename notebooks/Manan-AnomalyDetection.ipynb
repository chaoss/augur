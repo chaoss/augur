{
 "cells": [
  {
   "cell_type": "code",
   "execution_count": 372,
   "metadata": {},
   "outputs": [
    {
     "name": "stdout",
     "output_type": "stream",
     "text": [
      "Requirement already satisfied: pandas in /home/manan/.virtualenvs/augur/lib/python3.7/site-packages (0.25.2)\n",
      "Requirement already satisfied: python-dateutil>=2.6.1 in /home/manan/.virtualenvs/augur/lib/python3.7/site-packages (from pandas) (2.8.0)\n",
      "Requirement already satisfied: pytz>=2017.2 in /home/manan/.virtualenvs/augur/lib/python3.7/site-packages (from pandas) (2019.3)\n",
      "Requirement already satisfied: numpy>=1.13.3 in /home/manan/.virtualenvs/augur/lib/python3.7/site-packages (from pandas) (1.17.3)\n",
      "Requirement already satisfied: six>=1.5 in /home/manan/.virtualenvs/augur/lib/python3.7/site-packages (from python-dateutil>=2.6.1->pandas) (1.12.0)\n",
      "Requirement already satisfied: numpy in /home/manan/.virtualenvs/augur/lib/python3.7/site-packages (1.17.3)\n",
      "Requirement already satisfied: sqlalchemy in /home/manan/.virtualenvs/augur/lib/python3.7/site-packages (1.3.10)\n",
      "Requirement already satisfied: nltk in /home/manan/.virtualenvs/augur/lib/python3.7/site-packages (3.4.5)\n",
      "Requirement already satisfied: six in /home/manan/.virtualenvs/augur/lib/python3.7/site-packages (from nltk) (1.12.0)\n",
      "Requirement already satisfied: gensim in /home/manan/.virtualenvs/augur/lib/python3.7/site-packages (3.8.1)\n",
      "Requirement already satisfied: smart-open>=1.8.1 in /home/manan/.virtualenvs/augur/lib/python3.7/site-packages (from gensim) (1.9.0)\n",
      "Requirement already satisfied: six>=1.5.0 in /home/manan/.virtualenvs/augur/lib/python3.7/site-packages (from gensim) (1.12.0)\n",
      "Requirement already satisfied: scipy>=0.18.1 in /home/manan/.virtualenvs/augur/lib/python3.7/site-packages (from gensim) (1.4.1)\n",
      "Requirement already satisfied: numpy>=1.11.3 in /home/manan/.virtualenvs/augur/lib/python3.7/site-packages (from gensim) (1.17.3)\n",
      "Requirement already satisfied: boto>=2.32 in /home/manan/.virtualenvs/augur/lib/python3.7/site-packages (from smart-open>=1.8.1->gensim) (2.49.0)\n",
      "Requirement already satisfied: requests in /home/manan/.virtualenvs/augur/lib/python3.7/site-packages (from smart-open>=1.8.1->gensim) (2.22.0)\n",
      "Requirement already satisfied: boto3 in /home/manan/.virtualenvs/augur/lib/python3.7/site-packages (from smart-open>=1.8.1->gensim) (1.12.15)\n",
      "Requirement already satisfied: certifi>=2017.4.17 in /home/manan/.virtualenvs/augur/lib/python3.7/site-packages (from requests->smart-open>=1.8.1->gensim) (2019.9.11)\n",
      "Requirement already satisfied: idna<2.9,>=2.5 in /home/manan/.virtualenvs/augur/lib/python3.7/site-packages (from requests->smart-open>=1.8.1->gensim) (2.8)\n",
      "Requirement already satisfied: urllib3!=1.25.0,!=1.25.1,<1.26,>=1.21.1 in /home/manan/.virtualenvs/augur/lib/python3.7/site-packages (from requests->smart-open>=1.8.1->gensim) (1.25.6)\n",
      "Requirement already satisfied: chardet<3.1.0,>=3.0.2 in /home/manan/.virtualenvs/augur/lib/python3.7/site-packages (from requests->smart-open>=1.8.1->gensim) (3.0.4)\n",
      "Requirement already satisfied: jmespath<1.0.0,>=0.7.1 in /home/manan/.virtualenvs/augur/lib/python3.7/site-packages (from boto3->smart-open>=1.8.1->gensim) (0.9.5)\n",
      "Requirement already satisfied: s3transfer<0.4.0,>=0.3.0 in /home/manan/.virtualenvs/augur/lib/python3.7/site-packages (from boto3->smart-open>=1.8.1->gensim) (0.3.3)\n",
      "Requirement already satisfied: botocore<1.16.0,>=1.15.15 in /home/manan/.virtualenvs/augur/lib/python3.7/site-packages (from boto3->smart-open>=1.8.1->gensim) (1.15.15)\n",
      "Requirement already satisfied: python-dateutil<3.0.0,>=2.1 in /home/manan/.virtualenvs/augur/lib/python3.7/site-packages (from botocore<1.16.0,>=1.15.15->boto3->smart-open>=1.8.1->gensim) (2.8.0)\n",
      "Requirement already satisfied: docutils<0.16,>=0.10 in /home/manan/.virtualenvs/augur/lib/python3.7/site-packages (from botocore<1.16.0,>=1.15.15->boto3->smart-open>=1.8.1->gensim) (0.15.2)\n",
      "Requirement already satisfied: torch in /home/manan/.virtualenvs/augur/lib/python3.7/site-packages (1.4.0)\n",
      "Requirement already satisfied: sklearn in /home/manan/.virtualenvs/augur/lib/python3.7/site-packages (0.0)\n",
      "Requirement already satisfied: scikit-learn in /home/manan/.virtualenvs/augur/lib/python3.7/site-packages (from sklearn) (0.22.2.post1)\n",
      "Requirement already satisfied: scipy>=0.17.0 in /home/manan/.virtualenvs/augur/lib/python3.7/site-packages (from scikit-learn->sklearn) (1.4.1)\n",
      "Requirement already satisfied: joblib>=0.11 in /home/manan/.virtualenvs/augur/lib/python3.7/site-packages (from scikit-learn->sklearn) (0.14.1)\n",
      "Requirement already satisfied: numpy>=1.11.0 in /home/manan/.virtualenvs/augur/lib/python3.7/site-packages (from scikit-learn->sklearn) (1.17.3)\n"
     ]
    }
   ],
   "source": [
    "!pip3 install pandas\n",
    "!pip3 install numpy\n",
    "!pip3 install sqlalchemy\n",
    "!pip3 install nltk\n",
    "!pip3 install gensim\n",
    "!pip3 install torch\n",
    "!pip3 install sklearn"
   ]
  },
  {
   "cell_type": "code",
   "execution_count": 414,
   "metadata": {},
   "outputs": [],
   "source": [
    "import pandas as pd\n",
    "\n",
    "import numpy as np\n",
    "from numpy import save, load\n",
    "\n",
    "from scipy.cluster.vq import kmeans, vq\n",
    "\n",
    "import re\n",
    "import os\n",
    "\n",
    "from sqlalchemy import create_engine\n",
    "\n",
    "from sklearn.ensemble import IsolationForest\n",
    "from sklearn.decomposition import KernelPCA\n",
    "from sklearn.model_selection import train_test_split\n",
    "from sklearn.base import BaseEstimator\n",
    "\n",
    "import matplotlib.pyplot as plt\n",
    "from mpl_toolkits.mplot3d import Axes3D\n",
    "\n",
    "import nltk\n",
    "\n",
    "from gensim import utils\n",
    "from gensim.models.doc2vec import TaggedDocument, Doc2Vec\n",
    "from gensim.parsing.preprocessing  import preprocess_string\n",
    "\n",
    "from string import punctuation"
   ]
  },
  {
   "cell_type": "code",
   "execution_count": 415,
   "metadata": {},
   "outputs": [
    {
     "name": "stderr",
     "output_type": "stream",
     "text": [
      "[nltk_data] Downloading package stopwords to /home/manan/nltk_data...\n",
      "[nltk_data]   Package stopwords is already up-to-date!\n"
     ]
    },
    {
     "data": {
      "text/plain": [
       "True"
      ]
     },
     "execution_count": 415,
     "metadata": {},
     "output_type": "execute_result"
    }
   ],
   "source": [
    "nltk.download('stopwords')"
   ]
  },
  {
   "cell_type": "code",
   "execution_count": 416,
   "metadata": {},
   "outputs": [],
   "source": [
    "DATABASES = {\n",
    "    'augur' : {\n",
    "        'NAME'     : 'augur',\n",
    "        'USER'     : 'manan',\n",
    "        'PASSWORD' : 'mypass',\n",
    "        'HOST'     : 'localhost',\n",
    "        'PORT'     : 5432\n",
    "    },\n",
    "}\n",
    "\n",
    "engine_string = \"postgresql+psycopg2://{0}:{1}@{2}:{3}/{4}\".format(\n",
    "    DATABASES[\"augur\"][\"USER\"],\n",
    "    DATABASES[\"augur\"][\"PASSWORD\"],\n",
    "    DATABASES[\"augur\"][\"HOST\"],\n",
    "    DATABASES[\"augur\"][\"PORT\"],\n",
    "    DATABASES[\"augur\"][\"NAME\"],\n",
    ")\n",
    "\n",
    "engine = create_engine(engine_string)"
   ]
  },
  {
   "cell_type": "code",
   "execution_count": 417,
   "metadata": {},
   "outputs": [],
   "source": [
    "df_commits = pd.read_sql_table('commits',engine,schema='augur_data')\n",
    "df_message = pd.read_sql_table('message',engine,schema='augur_data')\n",
    "df_issues = pd.read_sql_table('issues',engine,schema='augur_data')\n",
    "df_issue_message_ref = pd.read_sql_table('issue_message_ref',engine,schema='augur_data')\n",
    "df_issue_events = pd.read_sql_table('issue_events',engine,schema='augur_data')\n",
    "df_issue_labels = pd.read_sql_table('issue_labels',engine,schema='augur_data')"
   ]
  },
  {
   "cell_type": "code",
   "execution_count": 418,
   "metadata": {},
   "outputs": [
    {
     "name": "stdout",
     "output_type": "stream",
     "text": [
      "<class 'pandas.core.frame.DataFrame'>\n",
      "RangeIndex: 2967 entries, 0 to 2966\n",
      "Data columns (total 12 columns):\n",
      "msg_id                  2967 non-null int64\n",
      "rgls_id                 0 non-null object\n",
      "msg_text                2967 non-null object\n",
      "msg_timestamp           2967 non-null datetime64[ns]\n",
      "msg_sender_email        0 non-null object\n",
      "msg_header              0 non-null object\n",
      "pltfrm_id               2967 non-null int64\n",
      "tool_source             2967 non-null object\n",
      "tool_version            2967 non-null object\n",
      "data_source             2967 non-null object\n",
      "data_collection_date    584 non-null datetime64[ns]\n",
      "cntrb_id                2967 non-null int64\n",
      "dtypes: datetime64[ns](2), int64(3), object(7)\n",
      "memory usage: 278.3+ KB\n"
     ]
    }
   ],
   "source": [
    "df_message.info()"
   ]
  },
  {
   "cell_type": "markdown",
   "metadata": {},
   "source": [
    "### Remove Columns which have very few entries or are not useful"
   ]
  },
  {
   "cell_type": "code",
   "execution_count": 419,
   "metadata": {},
   "outputs": [],
   "source": [
    "df_message_cleaned = df_message.drop([\"msg_id\", \"rgls_id\", \"msg_sender_email\", \"msg_header\", \"data_collection_date\"], axis=1)"
   ]
  },
  {
   "cell_type": "markdown",
   "metadata": {},
   "source": [
    "### Drop Columns in which the number of unique values is less than 40%"
   ]
  },
  {
   "cell_type": "code",
   "execution_count": 420,
   "metadata": {},
   "outputs": [],
   "source": [
    "for i in df_message_cleaned.columns:\n",
    "    if df_message_cleaned[i].unique().shape[0] <= 0.4 * len(df_message_cleaned):\n",
    "        df_message_cleaned = df_message_cleaned.drop(i, axis=1)"
   ]
  },
  {
   "cell_type": "code",
   "execution_count": 421,
   "metadata": {},
   "outputs": [
    {
     "data": {
      "text/html": [
       "<div>\n",
       "<style scoped>\n",
       "    .dataframe tbody tr th:only-of-type {\n",
       "        vertical-align: middle;\n",
       "    }\n",
       "\n",
       "    .dataframe tbody tr th {\n",
       "        vertical-align: top;\n",
       "    }\n",
       "\n",
       "    .dataframe thead th {\n",
       "        text-align: right;\n",
       "    }\n",
       "</style>\n",
       "<table border=\"1\" class=\"dataframe\">\n",
       "  <thead>\n",
       "    <tr style=\"text-align: right;\">\n",
       "      <th></th>\n",
       "      <th>msg_text</th>\n",
       "      <th>msg_timestamp</th>\n",
       "    </tr>\n",
       "  </thead>\n",
       "  <tbody>\n",
       "    <tr>\n",
       "      <th>0</th>\n",
       "      <td>That was quick.</td>\n",
       "      <td>2019-10-18 18:53:05</td>\n",
       "    </tr>\n",
       "    <tr>\n",
       "      <th>1</th>\n",
       "      <td>Thanks for opening this pull request! 🚀\\nWe're...</td>\n",
       "      <td>2019-10-15 23:34:53</td>\n",
       "    </tr>\n",
       "    <tr>\n",
       "      <th>2</th>\n",
       "      <td>Congrats on merging your first pull request! 🎉...</td>\n",
       "      <td>2019-10-16 15:39:15</td>\n",
       "    </tr>\n",
       "    <tr>\n",
       "      <th>3</th>\n",
       "      <td>@gabe-heim : I confirmed that this is an issue...</td>\n",
       "      <td>2019-10-14 14:21:38</td>\n",
       "    </tr>\n",
       "    <tr>\n",
       "      <th>4</th>\n",
       "      <td>@Nebrethar : Can you let @gabe-heim and @micha...</td>\n",
       "      <td>2019-10-14 14:15:36</td>\n",
       "    </tr>\n",
       "    <tr>\n",
       "      <th>...</th>\n",
       "      <td>...</td>\n",
       "      <td>...</td>\n",
       "    </tr>\n",
       "    <tr>\n",
       "      <th>2962</th>\n",
       "      <td>Note, I created the pr #14 based on the table ...</td>\n",
       "      <td>2019-05-30 16:02:07</td>\n",
       "    </tr>\n",
       "    <tr>\n",
       "      <th>2963</th>\n",
       "      <td>This was done in the release</td>\n",
       "      <td>2019-08-08 15:28:24</td>\n",
       "    </tr>\n",
       "    <tr>\n",
       "      <th>2964</th>\n",
       "      <td>done</td>\n",
       "      <td>2019-04-19 11:51:31</td>\n",
       "    </tr>\n",
       "    <tr>\n",
       "      <th>2965</th>\n",
       "      <td>I also can't seem to assign issues, so pinging...</td>\n",
       "      <td>2019-04-19 07:18:59</td>\n",
       "    </tr>\n",
       "    <tr>\n",
       "      <th>2966</th>\n",
       "      <td>@geekygirldawn done!!</td>\n",
       "      <td>2019-04-19 10:27:26</td>\n",
       "    </tr>\n",
       "  </tbody>\n",
       "</table>\n",
       "<p>2967 rows × 2 columns</p>\n",
       "</div>"
      ],
      "text/plain": [
       "                                               msg_text       msg_timestamp\n",
       "0                                       That was quick. 2019-10-18 18:53:05\n",
       "1     Thanks for opening this pull request! 🚀\\nWe're... 2019-10-15 23:34:53\n",
       "2     Congrats on merging your first pull request! 🎉... 2019-10-16 15:39:15\n",
       "3     @gabe-heim : I confirmed that this is an issue... 2019-10-14 14:21:38\n",
       "4     @Nebrethar : Can you let @gabe-heim and @micha... 2019-10-14 14:15:36\n",
       "...                                                 ...                 ...\n",
       "2962  Note, I created the pr #14 based on the table ... 2019-05-30 16:02:07\n",
       "2963                       This was done in the release 2019-08-08 15:28:24\n",
       "2964                                               done 2019-04-19 11:51:31\n",
       "2965  I also can't seem to assign issues, so pinging... 2019-04-19 07:18:59\n",
       "2966                              @geekygirldawn done!! 2019-04-19 10:27:26\n",
       "\n",
       "[2967 rows x 2 columns]"
      ]
     },
     "execution_count": 421,
     "metadata": {},
     "output_type": "execute_result"
    }
   ],
   "source": [
    "df_message_cleaned"
   ]
  },
  {
   "cell_type": "markdown",
   "metadata": {},
   "source": [
    "# Preprocess Data\n",
    "Remove punctuations, links, usernames, numbers and finding the root of each word by removing the morphology using a stemmer"
   ]
  },
  {
   "cell_type": "code",
   "execution_count": 903,
   "metadata": {},
   "outputs": [],
   "source": [
    "punc = list(punctuation)\n",
    "punc.remove('@')\n",
    "stopwords = nltk.corpus.stopwords.words('english')"
   ]
  },
  {
   "cell_type": "code",
   "execution_count": 904,
   "metadata": {},
   "outputs": [],
   "source": [
    "def clean_text(text, punc, stopwords):\n",
    "    paragraph = [word.strip().lower() for word in text.split(\" \") if not word.startswith('@') and word not in punc]\n",
    "    paragraph = \" \".join([word for word in paragraph if not word.startswith(\"https\") and word not in stopwords])\n",
    "    \n",
    "    paragraph = \"\".join([word for word in paragraph if word not in punc])\n",
    "    paragraph = re.sub('[0-9]+', '', paragraph)\n",
    "    paragraph = re.split(\"\\W+\", paragraph)\n",
    "    ps = nltk.PorterStemmer()\n",
    "    paragraph = [ps.stem(word) for word in paragraph]\n",
    "    return \" \".join(paragraph).strip()"
   ]
  },
  {
   "cell_type": "code",
   "execution_count": 905,
   "metadata": {},
   "outputs": [],
   "source": [
    "df_message_cleaned['msg_text'] = df_message_cleaned['msg_text'].map(lambda x : clean_text(x, punc, stopwords))\n",
    "X = df_message_cleaned['msg_text'].values"
   ]
  },
  {
   "cell_type": "markdown",
   "metadata": {},
   "source": [
    "# Prepare a Corpus of Words for Doc2Vec"
   ]
  },
  {
   "cell_type": "code",
   "execution_count": 906,
   "metadata": {},
   "outputs": [],
   "source": [
    "def prepare_corpus():\n",
    "    for idx, val in enumerate(X):\n",
    "        tokens = utils.simple_preprocess(val)\n",
    "        yield TaggedDocument(tokens, [idx])"
   ]
  },
  {
   "cell_type": "code",
   "execution_count": 907,
   "metadata": {},
   "outputs": [],
   "source": [
    "X_corpus = list(prepare_corpus())"
   ]
  },
  {
   "cell_type": "code",
   "execution_count": 908,
   "metadata": {},
   "outputs": [],
   "source": [
    "class DocVectorizer():\n",
    "    def __init__(self, epochs, corpus, vector_size):\n",
    "        self.epochs = epochs\n",
    "        self.vector_size = vector_size\n",
    "        self.corpus = corpus\n",
    "        \n",
    "    def train(self):\n",
    "        model = Doc2Vec(vector_size=self.vector_size, epochs=self.epochs)\n",
    "        \n",
    "        model.build_vocab(self.corpus)\n",
    "        \n",
    "        for epoch in range(self.epochs):\n",
    "            model.train(\n",
    "                self.corpus,\n",
    "                total_examples=model.corpus_count, \n",
    "                epochs=1\n",
    "            )\n",
    "            model.alpha -= 0.01\n",
    "            model.min_alpha = model.alpha\n",
    "        \n",
    "        self.model = model\n",
    "        \n",
    "    def predict(self, inp):\n",
    "        tokens = utils.simple_preprocess(inp)\n",
    "        \n",
    "        return self.model.infer_vector(tokens)"
   ]
  },
  {
   "cell_type": "markdown",
   "metadata": {},
   "source": [
    "# Train Doc2Vec"
   ]
  },
  {
   "cell_type": "code",
   "execution_count": 909,
   "metadata": {},
   "outputs": [],
   "source": [
    "model = DocVectorizer(20, X_corpus, 200)\n",
    "model.train()"
   ]
  },
  {
   "cell_type": "code",
   "execution_count": 910,
   "metadata": {},
   "outputs": [],
   "source": [
    "doc2vec = []\n",
    "for inp in X:\n",
    "    doc2vec.append(model.predict(inp))\n",
    "    \n",
    "doc2vec = np.array(doc2vec)"
   ]
  },
  {
   "cell_type": "markdown",
   "metadata": {},
   "source": [
    "# Analysis of Vectors obtained by Doc2Vec"
   ]
  },
  {
   "cell_type": "markdown",
   "metadata": {},
   "source": [
    "Reduce dimensions of the vector obtained by Doc2Vec to 2 using a $cosine$ kernel for PCA."
   ]
  },
  {
   "cell_type": "code",
   "execution_count": 941,
   "metadata": {},
   "outputs": [],
   "source": [
    "pca = KernelPCA(n_components=2, kernel='cosine')\n",
    "vecs = pca.fit_transform(doc2vec)"
   ]
  },
  {
   "cell_type": "code",
   "execution_count": 942,
   "metadata": {},
   "outputs": [
    {
     "data": {
      "text/plain": [
       "<matplotlib.collections.PathCollection at 0x7ff3f5964450>"
      ]
     },
     "execution_count": 942,
     "metadata": {},
     "output_type": "execute_result"
    },
    {
     "data": {
      "image/png": "[encoded data removed]",
      "text/plain": [
       "<Figure size 432x288 with 1 Axes>"
      ]
     },
     "metadata": {
      "needs_background": "light"
     },
     "output_type": "display_data"
    }
   ],
   "source": [
    "fig = plt.figure()\n",
    "ax = fig.add_subplot(111)\n",
    "ax.scatter(vecs[:, 0], vecs[:, 1])"
   ]
  },
  {
   "cell_type": "markdown",
   "metadata": {},
   "source": [
    "As we can see in the plot above, most data points are concentrated towards the centre. The anomalies are the very clear outliers that can be seen in the plot above. In order to find the anomalies, we perform KMeans clustering to split the data into 2 clusters of which one will be the set of outliers"
   ]
  },
  {
   "cell_type": "code",
   "execution_count": 943,
   "metadata": {},
   "outputs": [],
   "source": [
    "centroids, avg_distance = kmeans(vecs, 1)"
   ]
  },
  {
   "cell_type": "code",
   "execution_count": 944,
   "metadata": {},
   "outputs": [],
   "source": [
    "labels, distances = vq(vecs, centroids)"
   ]
  },
  {
   "cell_type": "markdown",
   "metadata": {},
   "source": [
    "The following plot is according to the labels obtained after KMeans clustering"
   ]
  },
  {
   "cell_type": "code",
   "execution_count": 945,
   "metadata": {},
   "outputs": [
    {
     "data": {
      "text/plain": [
       "<matplotlib.collections.PathCollection at 0x7ff3f592d7d0>"
      ]
     },
     "execution_count": 945,
     "metadata": {},
     "output_type": "execute_result"
    },
    {
     "data": {
      "image/png": "[encoded data removed]",
      "text/plain": [
       "<Figure size 432x288 with 1 Axes>"
      ]
     },
     "metadata": {
      "needs_background": "light"
     },
     "output_type": "display_data"
    }
   ],
   "source": [
    "import matplotlib.pyplot as plt\n",
    "from mpl_toolkits.mplot3d import Axes3D\n",
    "fig = plt.figure()\n",
    "ax = fig.add_subplot(111)\n",
    "ax.scatter(vecs[:, 0], vecs[:, 1],c=labels)"
   ]
  },
  {
   "cell_type": "markdown",
   "metadata": {},
   "source": [
    "We add a cutoff to the distance for each data point from the nearest centroid and make each entry an anomaly if it's distance from the closest centroid is greater than the cutoff."
   ]
  },
  {
   "cell_type": "code",
   "execution_count": 960,
   "metadata": {},
   "outputs": [],
   "source": [
    "anomalies_idx = []\n",
    "anomaly_label = []\n",
    "\n",
    "for idx, val in enumerate(distances):\n",
    "    if val > 0.7:\n",
    "        anomalies_idx.append(idx)\n",
    "        anomaly_label.append(1)\n",
    "    else:\n",
    "        anomaly_label.append(0)\n"
   ]
  },
  {
   "cell_type": "code",
   "execution_count": 961,
   "metadata": {},
   "outputs": [
    {
     "data": {
      "text/plain": [
       "<matplotlib.collections.PathCollection at 0x7ff3f55fdb10>"
      ]
     },
     "execution_count": 961,
     "metadata": {},
     "output_type": "execute_result"
    },
    {
     "data": {
      "image/png": "[encoded data removed]",
      "text/plain": [
       "<Figure size 432x288 with 1 Axes>"
      ]
     },
     "metadata": {
      "needs_background": "light"
     },
     "output_type": "display_data"
    }
   ],
   "source": [
    "import matplotlib.pyplot as plt\n",
    "from mpl_toolkits.mplot3d import Axes3D\n",
    "fig = plt.figure()\n",
    "ax = fig.add_subplot(111)\n",
    "ax.scatter(vecs[:, 0], vecs[:, 1],c=anomaly_label)\n",
    "ax.scatter(centroids[:, 0], centroids[:, 1], c='r')"
   ]
  },
  {
   "cell_type": "markdown",
   "metadata": {},
   "source": [
    "### Anomolous Messages"
   ]
  },
  {
   "cell_type": "code",
   "execution_count": 957,
   "metadata": {},
   "outputs": [
    {
     "data": {
      "text/html": [
       "<div>\n",
       "<style scoped>\n",
       "    .dataframe tbody tr th:only-of-type {\n",
       "        vertical-align: middle;\n",
       "    }\n",
       "\n",
       "    .dataframe tbody tr th {\n",
       "        vertical-align: top;\n",
       "    }\n",
       "\n",
       "    .dataframe thead th {\n",
       "        text-align: right;\n",
       "    }\n",
       "</style>\n",
       "<table border=\"1\" class=\"dataframe\">\n",
       "  <thead>\n",
       "    <tr style=\"text-align: right;\">\n",
       "      <th></th>\n",
       "      <th>msg_id</th>\n",
       "      <th>rgls_id</th>\n",
       "      <th>msg_text</th>\n",
       "      <th>msg_timestamp</th>\n",
       "      <th>msg_sender_email</th>\n",
       "      <th>msg_header</th>\n",
       "      <th>pltfrm_id</th>\n",
       "      <th>tool_source</th>\n",
       "      <th>tool_version</th>\n",
       "      <th>data_source</th>\n",
       "      <th>data_collection_date</th>\n",
       "      <th>cntrb_id</th>\n",
       "      <th>isAnAnomaly</th>\n",
       "    </tr>\n",
       "  </thead>\n",
       "  <tbody>\n",
       "    <tr>\n",
       "      <th>0</th>\n",
       "      <td>1691707</td>\n",
       "      <td>None</td>\n",
       "      <td>That was quick.</td>\n",
       "      <td>2019-10-18 18:53:05</td>\n",
       "      <td>None</td>\n",
       "      <td>None</td>\n",
       "      <td>25150</td>\n",
       "      <td>GitHub API Worker</td>\n",
       "      <td>0.0.3</td>\n",
       "      <td>GitHub API</td>\n",
       "      <td>NaT</td>\n",
       "      <td>277117</td>\n",
       "      <td>1</td>\n",
       "    </tr>\n",
       "    <tr>\n",
       "      <th>1</th>\n",
       "      <td>1691708</td>\n",
       "      <td>None</td>\n",
       "      <td>Thanks for opening this pull request! 🚀\\nWe're...</td>\n",
       "      <td>2019-10-15 23:34:53</td>\n",
       "      <td>None</td>\n",
       "      <td>None</td>\n",
       "      <td>25150</td>\n",
       "      <td>GitHub API Worker</td>\n",
       "      <td>0.0.3</td>\n",
       "      <td>GitHub API</td>\n",
       "      <td>NaT</td>\n",
       "      <td>277138</td>\n",
       "      <td>1</td>\n",
       "    </tr>\n",
       "    <tr>\n",
       "      <th>8</th>\n",
       "      <td>1691715</td>\n",
       "      <td>None</td>\n",
       "      <td>That's a good idea</td>\n",
       "      <td>2019-10-15 17:48:32</td>\n",
       "      <td>None</td>\n",
       "      <td>None</td>\n",
       "      <td>25150</td>\n",
       "      <td>GitHub API Worker</td>\n",
       "      <td>0.0.3</td>\n",
       "      <td>GitHub API</td>\n",
       "      <td>NaT</td>\n",
       "      <td>277118</td>\n",
       "      <td>1</td>\n",
       "    </tr>\n",
       "    <tr>\n",
       "      <th>12</th>\n",
       "      <td>1691719</td>\n",
       "      <td>None</td>\n",
       "      <td>We took notes as @andyl @vinodkahuja and @Geor...</td>\n",
       "      <td>2019-10-11 22:30:52</td>\n",
       "      <td>None</td>\n",
       "      <td>None</td>\n",
       "      <td>25150</td>\n",
       "      <td>GitHub API Worker</td>\n",
       "      <td>0.0.3</td>\n",
       "      <td>GitHub API</td>\n",
       "      <td>NaT</td>\n",
       "      <td>277126</td>\n",
       "      <td>1</td>\n",
       "    </tr>\n",
       "    <tr>\n",
       "      <th>13</th>\n",
       "      <td>1691720</td>\n",
       "      <td>None</td>\n",
       "      <td>I will watch the video ASAP, but in the meanti...</td>\n",
       "      <td>2019-10-11 23:46:51</td>\n",
       "      <td>None</td>\n",
       "      <td>None</td>\n",
       "      <td>25150</td>\n",
       "      <td>GitHub API Worker</td>\n",
       "      <td>0.0.3</td>\n",
       "      <td>GitHub API</td>\n",
       "      <td>NaT</td>\n",
       "      <td>277112</td>\n",
       "      <td>1</td>\n",
       "    </tr>\n",
       "    <tr>\n",
       "      <th>...</th>\n",
       "      <td>...</td>\n",
       "      <td>...</td>\n",
       "      <td>...</td>\n",
       "      <td>...</td>\n",
       "      <td>...</td>\n",
       "      <td>...</td>\n",
       "      <td>...</td>\n",
       "      <td>...</td>\n",
       "      <td>...</td>\n",
       "      <td>...</td>\n",
       "      <td>...</td>\n",
       "      <td>...</td>\n",
       "      <td>...</td>\n",
       "    </tr>\n",
       "    <tr>\n",
       "      <th>2946</th>\n",
       "      <td>1694653</td>\n",
       "      <td>None</td>\n",
       "      <td>@klumb Requesting your OK</td>\n",
       "      <td>2019-07-29 18:45:10</td>\n",
       "      <td>None</td>\n",
       "      <td>None</td>\n",
       "      <td>25150</td>\n",
       "      <td>GitHub Pull Request Worker</td>\n",
       "      <td>0.0.1</td>\n",
       "      <td>GitHub API</td>\n",
       "      <td>2019-10-21 00:17:24</td>\n",
       "      <td>277117</td>\n",
       "      <td>1</td>\n",
       "    </tr>\n",
       "    <tr>\n",
       "      <th>2947</th>\n",
       "      <td>1694654</td>\n",
       "      <td>None</td>\n",
       "      <td>This is fine</td>\n",
       "      <td>2019-07-29 19:04:39</td>\n",
       "      <td>None</td>\n",
       "      <td>None</td>\n",
       "      <td>25150</td>\n",
       "      <td>GitHub Pull Request Worker</td>\n",
       "      <td>0.0.1</td>\n",
       "      <td>GitHub API</td>\n",
       "      <td>2019-10-21 00:17:24</td>\n",
       "      <td>277148</td>\n",
       "      <td>1</td>\n",
       "    </tr>\n",
       "    <tr>\n",
       "      <th>2961</th>\n",
       "      <td>1694668</td>\n",
       "      <td>None</td>\n",
       "      <td>Issue #6 is related</td>\n",
       "      <td>2019-04-23 23:58:53</td>\n",
       "      <td>None</td>\n",
       "      <td>None</td>\n",
       "      <td>25150</td>\n",
       "      <td>GitHub API Worker</td>\n",
       "      <td>0.0.3</td>\n",
       "      <td>GitHub API</td>\n",
       "      <td>NaT</td>\n",
       "      <td>277126</td>\n",
       "      <td>1</td>\n",
       "    </tr>\n",
       "    <tr>\n",
       "      <th>2964</th>\n",
       "      <td>1694671</td>\n",
       "      <td>None</td>\n",
       "      <td>done</td>\n",
       "      <td>2019-04-19 11:51:31</td>\n",
       "      <td>None</td>\n",
       "      <td>None</td>\n",
       "      <td>25150</td>\n",
       "      <td>GitHub API Worker</td>\n",
       "      <td>0.0.3</td>\n",
       "      <td>GitHub API</td>\n",
       "      <td>NaT</td>\n",
       "      <td>277126</td>\n",
       "      <td>1</td>\n",
       "    </tr>\n",
       "    <tr>\n",
       "      <th>2966</th>\n",
       "      <td>1694673</td>\n",
       "      <td>None</td>\n",
       "      <td>@geekygirldawn done!!</td>\n",
       "      <td>2019-04-19 10:27:26</td>\n",
       "      <td>None</td>\n",
       "      <td>None</td>\n",
       "      <td>25150</td>\n",
       "      <td>GitHub API Worker</td>\n",
       "      <td>0.0.3</td>\n",
       "      <td>GitHub API</td>\n",
       "      <td>NaT</td>\n",
       "      <td>277118</td>\n",
       "      <td>1</td>\n",
       "    </tr>\n",
       "  </tbody>\n",
       "</table>\n",
       "<p>516 rows × 13 columns</p>\n",
       "</div>"
      ],
      "text/plain": [
       "       msg_id rgls_id                                           msg_text  \\\n",
       "0     1691707    None                                    That was quick.   \n",
       "1     1691708    None  Thanks for opening this pull request! 🚀\\nWe're...   \n",
       "8     1691715    None                                 That's a good idea   \n",
       "12    1691719    None  We took notes as @andyl @vinodkahuja and @Geor...   \n",
       "13    1691720    None  I will watch the video ASAP, but in the meanti...   \n",
       "...       ...     ...                                                ...   \n",
       "2946  1694653    None                          @klumb Requesting your OK   \n",
       "2947  1694654    None                                       This is fine   \n",
       "2961  1694668    None                                Issue #6 is related   \n",
       "2964  1694671    None                                               done   \n",
       "2966  1694673    None                              @geekygirldawn done!!   \n",
       "\n",
       "           msg_timestamp msg_sender_email msg_header  pltfrm_id  \\\n",
       "0    2019-10-18 18:53:05             None       None      25150   \n",
       "1    2019-10-15 23:34:53             None       None      25150   \n",
       "8    2019-10-15 17:48:32             None       None      25150   \n",
       "12   2019-10-11 22:30:52             None       None      25150   \n",
       "13   2019-10-11 23:46:51             None       None      25150   \n",
       "...                  ...              ...        ...        ...   \n",
       "2946 2019-07-29 18:45:10             None       None      25150   \n",
       "2947 2019-07-29 19:04:39             None       None      25150   \n",
       "2961 2019-04-23 23:58:53             None       None      25150   \n",
       "2964 2019-04-19 11:51:31             None       None      25150   \n",
       "2966 2019-04-19 10:27:26             None       None      25150   \n",
       "\n",
       "                     tool_source tool_version data_source  \\\n",
       "0              GitHub API Worker        0.0.3  GitHub API   \n",
       "1              GitHub API Worker        0.0.3  GitHub API   \n",
       "8              GitHub API Worker        0.0.3  GitHub API   \n",
       "12             GitHub API Worker        0.0.3  GitHub API   \n",
       "13             GitHub API Worker        0.0.3  GitHub API   \n",
       "...                          ...          ...         ...   \n",
       "2946  GitHub Pull Request Worker        0.0.1  GitHub API   \n",
       "2947  GitHub Pull Request Worker        0.0.1  GitHub API   \n",
       "2961           GitHub API Worker        0.0.3  GitHub API   \n",
       "2964           GitHub API Worker        0.0.3  GitHub API   \n",
       "2966           GitHub API Worker        0.0.3  GitHub API   \n",
       "\n",
       "     data_collection_date  cntrb_id  isAnAnomaly  \n",
       "0                     NaT    277117            1  \n",
       "1                     NaT    277138            1  \n",
       "8                     NaT    277118            1  \n",
       "12                    NaT    277126            1  \n",
       "13                    NaT    277112            1  \n",
       "...                   ...       ...          ...  \n",
       "2946  2019-10-21 00:17:24    277117            1  \n",
       "2947  2019-10-21 00:17:24    277148            1  \n",
       "2961                  NaT    277126            1  \n",
       "2964                  NaT    277126            1  \n",
       "2966                  NaT    277118            1  \n",
       "\n",
       "[516 rows x 13 columns]"
      ]
     },
     "execution_count": 957,
     "metadata": {},
     "output_type": "execute_result"
    }
   ],
   "source": [
    "df_message['isAnAnomaly'] = pd.Series(anomaly_label)\n",
    "df_message[df_message['isAnAnomaly'] == 1]"
   ]
  },
  {
   "cell_type": "markdown",
   "metadata": {},
   "source": [
    "# Anomaly Detection Using Isolation Forest"
   ]
  },
  {
   "cell_type": "code",
   "execution_count": 962,
   "metadata": {},
   "outputs": [],
   "source": [
    "from sklearn.ensemble import IsolationForest"
   ]
  },
  {
   "cell_type": "code",
   "execution_count": 968,
   "metadata": {},
   "outputs": [],
   "source": [
    "isolation_forest = IsolationForest(n_estimators=1000)\n",
    "labels = isolation_forest.fit_predict(vecs)"
   ]
  },
  {
   "cell_type": "code",
   "execution_count": 969,
   "metadata": {},
   "outputs": [
    {
     "data": {
      "text/plain": [
       "<matplotlib.collections.PathCollection at 0x7ff3f4872790>"
      ]
     },
     "execution_count": 969,
     "metadata": {},
     "output_type": "execute_result"
    },
    {
     "data": {
      "image/png": "[encoded data removed]",
      "text/plain": [
       "<Figure size 432x288 with 1 Axes>"
      ]
     },
     "metadata": {
      "needs_background": "light"
     },
     "output_type": "display_data"
    }
   ],
   "source": [
    "fig = plt.figure()\n",
    "ax = fig.add_subplot(111)\n",
    "ax.scatter(vecs[:, 0], vecs[:, 1],c=labels)"
   ]
  },
  {
   "cell_type": "code",
   "execution_count": 971,
   "metadata": {},
   "outputs": [
    {
     "data": {
      "text/html": [
       "<div>\n",
       "<style scoped>\n",
       "    .dataframe tbody tr th:only-of-type {\n",
       "        vertical-align: middle;\n",
       "    }\n",
       "\n",
       "    .dataframe tbody tr th {\n",
       "        vertical-align: top;\n",
       "    }\n",
       "\n",
       "    .dataframe thead th {\n",
       "        text-align: right;\n",
       "    }\n",
       "</style>\n",
       "<table border=\"1\" class=\"dataframe\">\n",
       "  <thead>\n",
       "    <tr style=\"text-align: right;\">\n",
       "      <th></th>\n",
       "      <th>msg_text</th>\n",
       "      <th>msg_timestamp</th>\n",
       "      <th>isAnomaly</th>\n",
       "    </tr>\n",
       "  </thead>\n",
       "  <tbody>\n",
       "    <tr>\n",
       "      <th>0</th>\n",
       "      <td>quick</td>\n",
       "      <td>2019-10-18 18:53:05</td>\n",
       "      <td>-1</td>\n",
       "    </tr>\n",
       "    <tr>\n",
       "      <th>7</th>\n",
       "      <td>discuss chaoss call today may need chang tldr ...</td>\n",
       "      <td>2019-10-15 17:33:36</td>\n",
       "      <td>-1</td>\n",
       "    </tr>\n",
       "    <tr>\n",
       "      <th>8</th>\n",
       "      <td>good idea</td>\n",
       "      <td>2019-10-15 17:48:32</td>\n",
       "      <td>-1</td>\n",
       "    </tr>\n",
       "    <tr>\n",
       "      <th>17</th>\n",
       "      <td>super</td>\n",
       "      <td>2017-10-14 10:27:22</td>\n",
       "      <td>-1</td>\n",
       "    </tr>\n",
       "    <tr>\n",
       "      <th>19</th>\n",
       "      <td>link</td>\n",
       "      <td>2019-10-12 11:24:17</td>\n",
       "      <td>-1</td>\n",
       "    </tr>\n",
       "    <tr>\n",
       "      <th>...</th>\n",
       "      <td>...</td>\n",
       "      <td>...</td>\n",
       "      <td>...</td>\n",
       "    </tr>\n",
       "    <tr>\n",
       "      <th>2946</th>\n",
       "      <td>request ok</td>\n",
       "      <td>2019-07-29 18:45:10</td>\n",
       "      <td>-1</td>\n",
       "    </tr>\n",
       "    <tr>\n",
       "      <th>2947</th>\n",
       "      <td>fine</td>\n",
       "      <td>2019-07-29 19:04:39</td>\n",
       "      <td>-1</td>\n",
       "    </tr>\n",
       "    <tr>\n",
       "      <th>2961</th>\n",
       "      <td>issu relat</td>\n",
       "      <td>2019-04-23 23:58:53</td>\n",
       "      <td>-1</td>\n",
       "    </tr>\n",
       "    <tr>\n",
       "      <th>2964</th>\n",
       "      <td>done</td>\n",
       "      <td>2019-04-19 11:51:31</td>\n",
       "      <td>-1</td>\n",
       "    </tr>\n",
       "    <tr>\n",
       "      <th>2966</th>\n",
       "      <td>done</td>\n",
       "      <td>2019-04-19 10:27:26</td>\n",
       "      <td>-1</td>\n",
       "    </tr>\n",
       "  </tbody>\n",
       "</table>\n",
       "<p>444 rows × 3 columns</p>\n",
       "</div>"
      ],
      "text/plain": [
       "                                               msg_text       msg_timestamp  \\\n",
       "0                                                 quick 2019-10-18 18:53:05   \n",
       "7     discuss chaoss call today may need chang tldr ... 2019-10-15 17:33:36   \n",
       "8                                             good idea 2019-10-15 17:48:32   \n",
       "17                                                super 2017-10-14 10:27:22   \n",
       "19                                                 link 2019-10-12 11:24:17   \n",
       "...                                                 ...                 ...   \n",
       "2946                                         request ok 2019-07-29 18:45:10   \n",
       "2947                                               fine 2019-07-29 19:04:39   \n",
       "2961                                         issu relat 2019-04-23 23:58:53   \n",
       "2964                                               done 2019-04-19 11:51:31   \n",
       "2966                                               done 2019-04-19 10:27:26   \n",
       "\n",
       "      isAnomaly  \n",
       "0            -1  \n",
       "7            -1  \n",
       "8            -1  \n",
       "17           -1  \n",
       "19           -1  \n",
       "...         ...  \n",
       "2946         -1  \n",
       "2947         -1  \n",
       "2961         -1  \n",
       "2964         -1  \n",
       "2966         -1  \n",
       "\n",
       "[444 rows x 3 columns]"
      ]
     },
     "execution_count": 971,
     "metadata": {},
     "output_type": "execute_result"
    }
   ],
   "source": [
    "df_message_cleaned[\"isAnomaly\"] = pd.Series(labels)\n",
    "df_message_cleaned[df_message_cleaned[\"isAnomaly\"] == -1]"
   ]
  },
  {
   "cell_type": "code",
   "execution_count": null,
   "metadata": {},
   "outputs": [],
   "source": []
  }
 ],
 "metadata": {
  "kernelspec": {
   "display_name": "Python 3",
   "language": "python",
   "name": "python3"
  },
  "language_info": {
   "codemirror_mode": {
    "name": "ipython",
    "version": 3
   },
   "file_extension": ".py",
   "mimetype": "text/x-python",
   "name": "python",
   "nbconvert_exporter": "python",
   "pygments_lexer": "ipython3",
   "version": "3.7.5"
  }
 },
 "nbformat": 4,
 "nbformat_minor": 4
}
