{
 "cells": [
  {
   "cell_type": "code",
   "execution_count": null,
   "metadata": {
    "scrolled": true
   },
   "outputs": [
    {
     "name": "stderr",
     "output_type": "stream",
     "text": [
      "2018-06-06 16:00:49 keanu-Inspiron-5567 perceval.backends.core.pipermail[1347] INFO Looking for messages from 'https://lists.opendaylight.org/pipermail/aalldp-dev/' since 1970-01-01 00:00:00+00:00\n",
      "2018-06-06 16:00:49 keanu-Inspiron-5567 perceval.backends.core.pipermail[1347] INFO Downloading mboxes from 'https://lists.opendaylight.org/pipermail/aalldp-dev/' to since 1970-01-01 00:00:00+00:00\n",
      "2018-06-06 16:00:51 keanu-Inspiron-5567 perceval.backends.core.pipermail[1347] INFO 1/1 MBoxes downloaded\n",
      "2018-06-06 16:00:51 keanu-Inspiron-5567 perceval.backends.core.mbox[1347] INFO Done. 2/2 messages fetched; 0 ignored\n",
      "2018-06-06 16:00:51 keanu-Inspiron-5567 perceval.backends.core.pipermail[1347] INFO Fetch process completed\n",
      "2018-06-06 16:00:51 keanu-Inspiron-5567 perceval.backends.core.pipermail[1347] INFO Looking for messages from 'https://lists.opendaylight.org/pipermail/aaa-dev/' since 1970-01-01 00:00:00+00:00\n",
      "2018-06-06 16:00:51 keanu-Inspiron-5567 perceval.backends.core.pipermail[1347] INFO Downloading mboxes from 'https://lists.opendaylight.org/pipermail/aaa-dev/' to since 1970-01-01 00:00:00+00:00\n",
      "2018-06-06 16:01:33 keanu-Inspiron-5567 perceval.backends.core.pipermail[1347] INFO 50/50 MBoxes downloaded\n",
      "2018-06-06 16:01:33 keanu-Inspiron-5567 perceval.backends.core.mbox[1347] WARNING Field 'Message-ID' not found in message jenkins-aaa <jenkins-aaa at opendaylight.org>:; ignoring\n",
      "2018-06-06 16:01:33 keanu-Inspiron-5567 perceval.backends.core.mbox[1347] WARNING Field 'Message-ID' not found in message the AAA admin?s perspective, however, I think CRUD APIs over the access policies would be beneficial.; ignoring\n",
      "2018-06-06 16:01:33 keanu-Inspiron-5567 perceval.backends.core.mbox[1347] WARNING Field 'Message-ID' not found in message jenkins-aaa <jenkins-aaa at opendaylight.org>:; ignoring\n",
      "2018-06-06 16:01:33 keanu-Inspiron-5567 perceval.backends.core.mbox[1347] WARNING Field 'Message-ID' not found in message jenkins-releng <jenkins-releng at opendaylight.org>:; ignoring\n",
      "2018-06-06 16:01:33 keanu-Inspiron-5567 perceval.backends.core.mbox[1347] WARNING Field 'Message-ID' not found in message jenkins-releng <jenkins-releng at opendaylight.org<mailto:jenkins-releng at opendaylight.org>>:; ignoring\n",
      "2018-06-06 16:01:33 keanu-Inspiron-5567 perceval.backends.core.mbox[1347] WARNING Field 'Message-ID' not found in message jenkins-releng <jenkins-releng at opendaylight.org<mailto:jenkins-releng at opendaylight.org>>:; ignoring\n",
      "2018-06-06 16:01:34 keanu-Inspiron-5567 perceval.backends.core.mbox[1347] WARNING Field 'Message-ID' not found in message this perspective, I feel that any API packaged inside a stable; ignoring\n",
      "2018-06-06 16:01:34 keanu-Inspiron-5567 perceval.backends.core.mbox[1347] WARNING Field 'Message-ID' not found in message the slide 6, you can see files that we added or modified to add shiro moon filter, realm and authN-token servlet.; ignoring\n",
      "2018-06-06 16:01:35 keanu-Inspiron-5567 perceval.backends.core.mbox[1347] WARNING Field 'Message-ID' not found in message Ryan Goulding <ryandgoulding at gmail.com<mailto:ryandgoulding at gmail.com>>:; ignoring\n",
      "2018-06-06 16:01:35 keanu-Inspiron-5567 perceval.backends.core.mbox[1347] WARNING Field 'Message-ID' not found in message ODLKeyTool class:; ignoring\n",
      "2018-06-06 16:01:35 keanu-Inspiron-5567 perceval.backends.core.mbox[1347] WARNING Field 'Message-ID' not found in message ODLKeyTool class:; ignoring\n",
      "2018-06-06 16:01:35 keanu-Inspiron-5567 perceval.backends.core.mbox[1347] WARNING Field 'Message-ID' not found in message Ryan Goulding <ryandgoulding at gmail.com>:; ignoring\n",
      "2018-06-06 16:01:36 keanu-Inspiron-5567 perceval.backends.core.mbox[1347] INFO Done. 1698/1710 messages fetched; 12 ignored\n",
      "2018-06-06 16:01:36 keanu-Inspiron-5567 perceval.backends.core.pipermail[1347] INFO Fetch process completed\n",
      "2018-06-06 16:01:36 keanu-Inspiron-5567 perceval.backends.core.pipermail[1347] INFO Looking for messages from 'https://lists.opendaylight.org/pipermail/advisory-group/' since 1970-01-01 00:00:00+00:00\n",
      "2018-06-06 16:01:36 keanu-Inspiron-5567 perceval.backends.core.pipermail[1347] INFO Downloading mboxes from 'https://lists.opendaylight.org/pipermail/advisory-group/' to since 1970-01-01 00:00:00+00:00\n",
      "2018-06-06 16:01:59 keanu-Inspiron-5567 perceval.backends.core.pipermail[1347] INFO 33/33 MBoxes downloaded\n",
      "2018-06-06 16:01:59 keanu-Inspiron-5567 perceval.backends.core.mbox[1347] WARNING Field 'Message-ID' not found in message jenkins-aaa <jenkins-aaa at opendaylight.org>:; ignoring\n",
      "2018-06-06 16:01:59 keanu-Inspiron-5567 perceval.backends.core.mbox[1347] WARNING Field 'Message-ID' not found in message the AAA admin?s perspective, however, I think CRUD APIs over the access policies would be beneficial.; ignoring\n",
      "2018-06-06 16:01:59 keanu-Inspiron-5567 perceval.backends.core.mbox[1347] WARNING Field 'Message-ID' not found in message jenkins-aaa <jenkins-aaa at opendaylight.org>:; ignoring\n",
      "2018-06-06 16:02:00 keanu-Inspiron-5567 perceval.backends.core.mbox[1347] WARNING Field 'Message-ID' not found in message jenkins-releng <jenkins-releng at opendaylight.org>:; ignoring\n",
      "2018-06-06 16:02:00 keanu-Inspiron-5567 perceval.backends.core.mbox[1347] WARNING Field 'Message-ID' not found in message my perspective - I think the reason I care about the status of a project is that I can then base business features on it.; ignoring\n",
      "2018-06-06 16:02:00 keanu-Inspiron-5567 perceval.backends.core.mbox[1347] WARNING Field 'Message-ID' not found in message Brian Freeman:; ignoring\n",
      "2018-06-06 16:02:00 keanu-Inspiron-5567 perceval.backends.core.mbox[1347] WARNING Field 'Message-ID' not found in message Brian Freeman:; ignoring\n",
      "2018-06-06 16:02:00 keanu-Inspiron-5567 perceval.backends.core.mbox[1347] WARNING Field 'Message-ID' not found in message Brian Freeman:; ignoring\n",
      "2018-06-06 16:02:00 keanu-Inspiron-5567 perceval.backends.core.mbox[1347] WARNING Field 'Message-ID' not found in message Brian Freeman:; ignoring\n",
      "2018-06-06 16:02:00 keanu-Inspiron-5567 perceval.backends.core.mbox[1347] WARNING Field 'Message-ID' not found in message Brian Freeman:; ignoring\n",
      "2018-06-06 16:02:01 keanu-Inspiron-5567 perceval.backends.core.mbox[1347] INFO Done. 873/883 messages fetched; 10 ignored\n",
      "2018-06-06 16:02:01 keanu-Inspiron-5567 perceval.backends.core.pipermail[1347] INFO Fetch process completed\n",
      "2018-06-06 16:02:01 keanu-Inspiron-5567 perceval.backends.core.pipermail[1347] INFO Looking for messages from 'https://lists.opendaylight.org/pipermail/affinity-dev/' since 1970-01-01 00:00:00+00:00\n",
      "2018-06-06 16:02:01 keanu-Inspiron-5567 perceval.backends.core.pipermail[1347] INFO Downloading mboxes from 'https://lists.opendaylight.org/pipermail/affinity-dev/' to since 1970-01-01 00:00:00+00:00\n",
      "2018-06-06 16:02:12 keanu-Inspiron-5567 perceval.backends.core.pipermail[1347] INFO 15/15 MBoxes downloaded\n",
      "2018-06-06 16:02:12 keanu-Inspiron-5567 perceval.backends.core.mbox[1347] WARNING Field 'Message-ID' not found in message jenkins-aaa <jenkins-aaa at opendaylight.org>:; ignoring\n",
      "2018-06-06 16:02:13 keanu-Inspiron-5567 perceval.backends.core.mbox[1347] WARNING Field 'Message-ID' not found in message my perspective - I think the reason I care about the status of a project is that I can then base business features on it.; ignoring\n",
      "2018-06-06 16:02:13 keanu-Inspiron-5567 perceval.backends.core.mbox[1347] WARNING Field 'Message-ID' not found in message Brian Freeman:; ignoring\n",
      "2018-06-06 16:02:13 keanu-Inspiron-5567 perceval.backends.core.mbox[1347] WARNING Field 'Message-ID' not found in message Brian Freeman:; ignoring\n",
      "2018-06-06 16:02:13 keanu-Inspiron-5567 perceval.backends.core.mbox[1347] WARNING Field 'Message-ID' not found in message Brian Freeman:; ignoring\n",
      "2018-06-06 16:02:13 keanu-Inspiron-5567 perceval.backends.core.mbox[1347] INFO Done. 775/780 messages fetched; 5 ignored\n",
      "2018-06-06 16:02:13 keanu-Inspiron-5567 perceval.backends.core.pipermail[1347] INFO Fetch process completed\n",
      "2018-06-06 16:02:13 keanu-Inspiron-5567 perceval.backends.core.pipermail[1347] INFO Looking for messages from 'https://lists.opendaylight.org/pipermail/alto-dev/' since 1970-01-01 00:00:00+00:00\n",
      "2018-06-06 16:02:13 keanu-Inspiron-5567 perceval.backends.core.pipermail[1347] INFO Downloading mboxes from 'https://lists.opendaylight.org/pipermail/alto-dev/' to since 1970-01-01 00:00:00+00:00\n"
     ]
    },
    {
     "name": "stderr",
     "output_type": "stream",
     "text": [
      "2018-06-06 16:02:39 keanu-Inspiron-5567 perceval.backends.core.pipermail[1347] INFO 35/35 MBoxes downloaded\n"
     ]
    }
   ],
   "source": [
    "import augur\n",
    "from augur.Piper_reader import Piper_mail\n",
    "\n",
    "# import everything from githubapi.py and ghtorrent.py so we can\n",
    "# just copy and paste our function later\n",
    "import json\n",
    "import re\n",
    "from dateutil.parser import parse\n",
    "import pandas as pd\n",
    "import github\n",
    "import numpy as np\n",
    "import sqlalchemy as s\n",
    "import datetime\n",
    "import requests\n",
    "import time\n",
    "from perceval.backends.core.pipermail import Pipermail\n",
    "import os, os.path\n",
    "\n",
    "%matplotlib inline\n",
    "# create an Augur application so we can test our function\n",
    "link = \"https://lists.opendaylight.org/pipermail/\"\n",
    "mail = [\"aalldp-dev\",\"aaa-dev\",\"advisory-group\",\"affinity-dev\",\"alto-dev\",\"archetypes-dev\"]\n",
    "#print(os.getcwd())\n",
    "file = \"opendaylight-\"\n",
    "if \"notebooks\" in os.getcwd():\n",
    "    os.chdir(\"..\")\n",
    "path = \"/augur/data/opendaylight-\" \n",
    "for x in range(len(mail)):\n",
    "    #print(link+mail[x])\n",
    "    #print(os.getcwd())\n",
    "    #print(os.path.join(os.getcwd() + path+'.json'))\n",
    "    place = os.path.join(os.getcwd() + path + mail[x] +'.json')\n",
    "    if(os.path.exists(place)):\n",
    "        print(\"File Exists\")\n",
    "        continue                   \n",
    "    repo = Pipermail(url = \"https://lists.opendaylight.org/pipermail/\"+ mail[x] + \"/\",dirpath=\"tmp/archives\")\n",
    "    #print(repo)\n",
    "    outfile = open(place,\"w+\")\n",
    "    for message in repo.fetch():\n",
    "        obj = json.dumps(message, indent=4, sort_keys=True)\n",
    "        outfile.write(obj)\n",
    "        outfile.write('\\n')\n",
    "    outfile.close()"
   ]
  },
  {
   "cell_type": "code",
   "execution_count": null,
   "metadata": {
    "scrolled": true
   },
   "outputs": [],
   "source": [
    "Piper_mail()"
   ]
  }
 ],
 "metadata": {
  "kernelspec": {
   "display_name": "Python (augur)",
   "language": "python",
   "name": "augur"
  },
  "language_info": {
   "codemirror_mode": {
    "name": "ipython",
    "version": 3
   },
   "file_extension": ".py",
   "mimetype": "text/x-python",
   "name": "python",
   "nbconvert_exporter": "python",
   "pygments_lexer": "ipython3",
   "version": "3.6.5"
  }
 },
 "nbformat": 4,
 "nbformat_minor": 2
}
