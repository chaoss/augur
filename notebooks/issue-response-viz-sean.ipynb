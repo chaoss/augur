{
 "cells": [
  {
   "cell_type": "code",
   "execution_count": 233,
   "metadata": {},
   "outputs": [],
   "source": [
    "import augur\n",
    "\n",
    "# import everything from githubapi.py and ghtorrent.py so we can\n",
    "# just copy and paste our function later\n",
    "import json\n",
    "import re\n",
    "from dateutil.parser import parse\n",
    "import pandas as pd\n",
    "import github\n",
    "import numpy as np\n",
    "import sqlalchemy as s\n",
    "import datetime\n",
    "import requests\n",
    "import matplotlib.pyplot as plt\n",
    "import seaborn as sns\n",
    "import pylab\n",
    "from scipy import stats\n",
    "from pandas.api.types import is_numeric_dtype\n",
    "\n",
    "\n",
    "\n",
    "%matplotlib inline\n",
    "# create an Augur application so we can test our function\n",
    "augur_app = augur.Application()('../augur.cfg')\n",
    "github = augurApp.github()\n",
    "ghtorrent = augurApp.ghtorrent()"
   ]
  },
  {
   "cell_type": "code",
   "execution_count": 234,
   "metadata": {},
   "outputs": [],
   "source": [
    "df = ghtorrent.issue_comment_time('rails', 'rails')\n"
   ]
  },
  {
   "cell_type": "code",
   "execution_count": 235,
   "metadata": {},
   "outputs": [],
   "source": [
    "df['opened'] = pd.to_datetime(df['opened'],errors='coerce')\n",
    "df = df.set_index(['opened'])\n",
    "df = df.dropna()\n"
   ]
  },
  {
   "cell_type": "code",
   "execution_count": 236,
   "metadata": {},
   "outputs": [],
   "source": [
    "test = df[np.abs(df['minutes_to_comment']-df['minutes_to_comment'].mean()<=(5*df['minutes_to_comment'].std()))] #keep only the ones that are within +3 to -3 standard deviations in the column 'Data'.\n"
   ]
  },
  {
   "cell_type": "code",
   "execution_count": 237,
   "metadata": {},
   "outputs": [],
   "source": [
    "dfnew = test.resample('W-MON').mean()"
   ]
  },
  {
   "cell_type": "code",
   "execution_count": 238,
   "metadata": {},
   "outputs": [],
   "source": [
    "dfnew2 = dfnew.fillna(0)"
   ]
  },
  {
   "cell_type": "code",
   "execution_count": 239,
   "metadata": {},
   "outputs": [],
   "source": [
    "dfnew3 = dfnew2.rolling(window=8, min_periods=0).mean()\n"
   ]
  },
  {
   "cell_type": "code",
   "execution_count": 240,
   "metadata": {},
   "outputs": [
    {
     "data": {
      "text/html": [
       "<div>\n",
       "<style scoped>\n",
       "    .dataframe tbody tr th:only-of-type {\n",
       "        vertical-align: middle;\n",
       "    }\n",
       "\n",
       "    .dataframe tbody tr th {\n",
       "        vertical-align: top;\n",
       "    }\n",
       "\n",
       "    .dataframe thead th {\n",
       "        text-align: right;\n",
       "    }\n",
       "</style>\n",
       "<table border=\"1\" class=\"dataframe\">\n",
       "  <thead>\n",
       "    <tr style=\"text-align: right;\">\n",
       "      <th></th>\n",
       "      <th>id</th>\n",
       "      <th>pull_request</th>\n",
       "      <th>minutes_to_comment</th>\n",
       "    </tr>\n",
       "    <tr>\n",
       "      <th>opened</th>\n",
       "      <th></th>\n",
       "      <th></th>\n",
       "      <th></th>\n",
       "    </tr>\n",
       "  </thead>\n",
       "  <tbody>\n",
       "    <tr>\n",
       "      <th>2009-04-06</th>\n",
       "      <td>136626.000000</td>\n",
       "      <td>0.0</td>\n",
       "      <td>22716.000000</td>\n",
       "    </tr>\n",
       "    <tr>\n",
       "      <th>2009-04-13</th>\n",
       "      <td>68313.000000</td>\n",
       "      <td>0.0</td>\n",
       "      <td>11358.000000</td>\n",
       "    </tr>\n",
       "    <tr>\n",
       "      <th>2009-04-20</th>\n",
       "      <td>91083.666667</td>\n",
       "      <td>0.0</td>\n",
       "      <td>7585.666667</td>\n",
       "    </tr>\n",
       "    <tr>\n",
       "      <th>2009-04-27</th>\n",
       "      <td>68312.750000</td>\n",
       "      <td>0.0</td>\n",
       "      <td>5689.250000</td>\n",
       "    </tr>\n",
       "    <tr>\n",
       "      <th>2009-05-04</th>\n",
       "      <td>81975.000000</td>\n",
       "      <td>0.0</td>\n",
       "      <td>4552.400000</td>\n",
       "    </tr>\n",
       "  </tbody>\n",
       "</table>\n",
       "</div>"
      ],
      "text/plain": [
       "                       id  pull_request  minutes_to_comment\n",
       "opened                                                     \n",
       "2009-04-06  136626.000000           0.0        22716.000000\n",
       "2009-04-13   68313.000000           0.0        11358.000000\n",
       "2009-04-20   91083.666667           0.0         7585.666667\n",
       "2009-04-27   68312.750000           0.0         5689.250000\n",
       "2009-05-04   81975.000000           0.0         4552.400000"
      ]
     },
     "execution_count": 240,
     "metadata": {},
     "output_type": "execute_result"
    }
   ],
   "source": [
    "dfnew3.head()"
   ]
  },
  {
   "cell_type": "code",
   "execution_count": 241,
   "metadata": {},
   "outputs": [
    {
     "data": {
      "text/plain": [
       "60904.67928001276"
      ]
     },
     "execution_count": 241,
     "metadata": {},
     "output_type": "execute_result"
    }
   ],
   "source": [
    "max(dfnew3['minutes_to_comment'])"
   ]
  },
  {
   "cell_type": "code",
   "execution_count": 242,
   "metadata": {},
   "outputs": [],
   "source": [
    "dfnext=pd.DataFrame({'xvalues':dfnew2.index, 'yvalues':dfnew2[\"minutes_to_comment\"]})"
   ]
  },
  {
   "cell_type": "code",
   "execution_count": 243,
   "metadata": {},
   "outputs": [
    {
     "data": {
      "text/plain": [
       "82184.95555555556"
      ]
     },
     "execution_count": 243,
     "metadata": {},
     "output_type": "execute_result"
    }
   ],
   "source": [
    "max(dfnext['yvalues'])"
   ]
  },
  {
   "cell_type": "code",
   "execution_count": 244,
   "metadata": {},
   "outputs": [
    {
     "data": {
      "text/plain": [
       "[<matplotlib.lines.Line2D at 0x1a1b8334e0>]"
      ]
     },
     "execution_count": 244,
     "metadata": {},
     "output_type": "execute_result"
    },
    {
     "data": {
      "image/png": "[encoded data removed]",
      "text/plain": [
       "<matplotlib.figure.Figure at 0x1a1a239d30>"
      ]
     },
     "metadata": {},
     "output_type": "display_data"
    }
   ],
   "source": [
    "pylab.ylim([0,90000])\n",
    "pylab.plot('xvalues', 'yvalues', data=dfnext, label=\"Issue Response Time\")"
   ]
  },
  {
   "cell_type": "code",
   "execution_count": null,
   "metadata": {},
   "outputs": [],
   "source": []
  }
 ],
 "metadata": {
  "kernelspec": {
   "display_name": "Python (augur)",
   "language": "python",
   "name": "augur"
  },
  "language_info": {
   "codemirror_mode": {
    "name": "ipython",
    "version": 3
   },
   "file_extension": ".py",
   "mimetype": "text/x-python",
   "name": "python",
   "nbconvert_exporter": "python",
   "pygments_lexer": "ipython3",
   "version": "3.6.4"
  }
 },
 "nbformat": 4,
 "nbformat_minor": 2
}
