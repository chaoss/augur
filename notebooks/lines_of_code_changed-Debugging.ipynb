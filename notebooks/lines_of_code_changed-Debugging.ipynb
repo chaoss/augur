{
 "cells": [
  {
   "cell_type": "code",
   "execution_count": 6,
   "metadata": {},
   "outputs": [],
   "source": [
    "import augur\n",
    "from augur.localcsv import LocalCSV\n",
    "import json\n",
    "import re\n",
    "from dateutil.parser import parse\n",
    "import pandas as pd\n",
    "import github\n",
    "import numpy as np\n",
    "import datetime\n",
    "import requests\n",
    "from augur import logger\n",
    "app = augur.Application('../augur.config.json')\n",
    "\n",
    "github = app.githubapi()"
   ]
  },
  {
   "cell_type": "code",
   "execution_count": 18,
   "metadata": {},
   "outputs": [],
   "source": [
    "def lines_of_code_changed(self, owner, repo=None): \n",
    "    \"\"\"\n",
    "    Timeseries of the count of lines added, deleted, and the net change each week\n",
    "\n",
    "    :param owner: The name of the project owner\n",
    "    :param repo: The name of the repo\n",
    "    :return: DataFrame with the associated lines changed information/week\n",
    "    \"\"\"\n",
    "    # get the data we need from the GitHub API\n",
    "    # see <project_root>/augur/githubapi.py for examples using the GraphQL API\n",
    "    url = \"https://api.github.com/repos/{}/{}/stats/code_frequency\".format(owner, repo)\n",
    "    json = requests.get(url, auth=('user', self.GITHUB_API_KEY)).json()\n",
    "\n",
    "augur.githubapi.lines_of_code_changed = lines_of_code_changed"
   ]
  },
  {
   "cell_type": "code",
   "execution_count": 20,
   "metadata": {},
   "outputs": [
    {
     "ename": "AttributeError",
     "evalue": "'str' object has no attribute 'GITHUB_API_KEY'",
     "output_type": "error",
     "traceback": [
      "\u001b[0;31m---------------------------------------------------------------------------\u001b[0m",
      "\u001b[0;31mAttributeError\u001b[0m                            Traceback (most recent call last)",
      "\u001b[0;32m<ipython-input-20-ddaeb3c87b2c>\u001b[0m in \u001b[0;36m<module>\u001b[0;34m()\u001b[0m\n\u001b[0;32m----> 1\u001b[0;31m \u001b[0mgithub\u001b[0m\u001b[0;34m.\u001b[0m\u001b[0mlines_of_code_changed\u001b[0m\u001b[0;34m(\u001b[0m\u001b[0;34m\"rails\"\u001b[0m\u001b[0;34m,\u001b[0m \u001b[0;34m\"rails\"\u001b[0m\u001b[0;34m)\u001b[0m\u001b[0;34m\u001b[0m\u001b[0m\n\u001b[0m",
      "\u001b[0;32m<ipython-input-7-2e3456201488>\u001b[0m in \u001b[0;36mlines_of_code_changed\u001b[0;34m(self, owner, repo)\u001b[0m\n\u001b[1;32m     10\u001b[0m     \u001b[0;31m# see <project_root>/augur/githubapi.py for examples using the GraphQL API\u001b[0m\u001b[0;34m\u001b[0m\u001b[0;34m\u001b[0m\u001b[0m\n\u001b[1;32m     11\u001b[0m     \u001b[0murl\u001b[0m \u001b[0;34m=\u001b[0m \u001b[0;34m\"https://api.github.com/repos/{}/{}/stats/code_frequency\"\u001b[0m\u001b[0;34m.\u001b[0m\u001b[0mformat\u001b[0m\u001b[0;34m(\u001b[0m\u001b[0mowner\u001b[0m\u001b[0;34m,\u001b[0m \u001b[0mrepo\u001b[0m\u001b[0;34m)\u001b[0m\u001b[0;34m\u001b[0m\u001b[0m\n\u001b[0;32m---> 12\u001b[0;31m     \u001b[0mjson\u001b[0m \u001b[0;34m=\u001b[0m \u001b[0mrequests\u001b[0m\u001b[0;34m.\u001b[0m\u001b[0mget\u001b[0m\u001b[0;34m(\u001b[0m\u001b[0murl\u001b[0m\u001b[0;34m,\u001b[0m \u001b[0mauth\u001b[0m\u001b[0;34m=\u001b[0m\u001b[0;34m(\u001b[0m\u001b[0;34m'user'\u001b[0m\u001b[0;34m,\u001b[0m \u001b[0mself\u001b[0m\u001b[0;34m.\u001b[0m\u001b[0mGITHUB_API_KEY\u001b[0m\u001b[0;34m)\u001b[0m\u001b[0;34m)\u001b[0m\u001b[0;34m.\u001b[0m\u001b[0mjson\u001b[0m\u001b[0;34m(\u001b[0m\u001b[0;34m)\u001b[0m\u001b[0;34m\u001b[0m\u001b[0m\n\u001b[0m\u001b[1;32m     13\u001b[0m \u001b[0;34m\u001b[0m\u001b[0m\n\u001b[1;32m     14\u001b[0m \u001b[0mgithub\u001b[0m\u001b[0;34m.\u001b[0m\u001b[0mlines_of_code_changed\u001b[0m \u001b[0;34m=\u001b[0m \u001b[0mlines_of_code_changed\u001b[0m\u001b[0;34m\u001b[0m\u001b[0m\n",
      "\u001b[0;31mAttributeError\u001b[0m: 'str' object has no attribute 'GITHUB_API_KEY'"
     ]
    }
   ],
   "source": [
    "github.lines_of_code_changed(\"rails\", \"rails\")"
   ]
  },
  {
   "cell_type": "code",
   "execution_count": null,
   "metadata": {
    "collapsed": true
   },
   "outputs": [],
   "source": []
  }
 ],
 "metadata": {
  "kernelspec": {
   "display_name": "Python (augur)",
   "language": "python",
   "name": "augur"
  },
  "language_info": {
   "codemirror_mode": {
    "name": "ipython",
    "version": 3
   },
   "file_extension": ".py",
   "mimetype": "text/x-python",
   "name": "python",
   "nbconvert_exporter": "python",
   "pygments_lexer": "ipython3",
   "version": "3.6.3"
  }
 },
 "nbformat": 4,
 "nbformat_minor": 2
}
