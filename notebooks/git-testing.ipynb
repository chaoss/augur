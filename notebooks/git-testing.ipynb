{
 "cells": [
  {
   "cell_type": "code",
   "execution_count": 1,
   "metadata": {},
   "outputs": [],
   "source": [
    "import augur\n",
    "\n",
    "import os\n",
    "import io\n",
    "import shutil\n",
    "import pandas as pd\n",
    "from dulwich.repo import Repo\n",
    "from dulwich import porcelain as git\n",
    "\n",
    "augurApp = augur.Application('../augur.cfg')\n",
    "# we only need an instance of the GitHubAPI class\n",
    "git_instance = augurApp.git()\n",
    "augurApp.finalize_config()"
   ]
  },
  {
   "cell_type": "code",
   "execution_count": null,
   "metadata": {},
   "outputs": [],
   "source": []
  }
 ],
 "metadata": {
  "kernelspec": {
   "display_name": "Python 3",
   "language": "python",
   "name": "python3"
  },
  "language_info": {
   "codemirror_mode": {
    "name": "ipython",
    "version": 3
   },
   "file_extension": ".py",
   "mimetype": "text/x-python",
   "name": "python",
   "nbconvert_exporter": "python",
   "pygments_lexer": "ipython3",
   "version": "3.6.4"
  }
 },
 "nbformat": 4,
 "nbformat_minor": 2
}
