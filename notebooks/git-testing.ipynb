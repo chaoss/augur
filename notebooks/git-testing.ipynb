{
 "cells": [
  {
   "cell_type": "code",
   "execution_count": 1,
   "metadata": {},
   "outputs": [
    {
     "name": "stderr",
     "output_type": "stream",
     "text": [
      "2018-06-04 22:18:48 howderek-macbook.local augur[48377] INFO Git: Updating https://git.enlightenment.org/apps/express.git\n",
      "2018-06-04 22:18:49 howderek-macbook.local augur[48377] INFO Git: Calculating metrics for https://git.enlightenment.org/apps/express.git\n",
      "2018-06-04 22:18:49 howderek-macbook.local augur[48377] INFO Git: Update completed for https://git.enlightenment.org/apps/express.git\n",
      "2018-06-04 22:18:49 howderek-macbook.local augur[48377] INFO Git: Updating git://anongit.kde.org/kaffeine\n",
      "2018-06-04 22:18:49 howderek-macbook.local augur[48377] INFO Git: Calculating metrics for git://anongit.kde.org/kaffeine\n",
      "2018-06-04 22:18:50 howderek-macbook.local augur[48377] INFO Git: Update completed for git://anongit.kde.org/kaffeine\n",
      "2018-06-04 22:18:50 howderek-macbook.local augur[48377] INFO Git: Updating https://linuxtv.org/git/tvtime.git\n",
      "2018-06-04 22:18:51 howderek-macbook.local augur[48377] INFO Git: Calculating metrics for https://linuxtv.org/git/tvtime.git\n",
      "2018-06-04 22:18:51 howderek-macbook.local augur[48377] INFO Git: Update completed for https://linuxtv.org/git/tvtime.git\n"
     ]
    }
   ],
   "source": [
    "import augur\n",
    "from augur import logger\n",
    "\n",
    "import os\n",
    "import io\n",
    "import shutil\n",
    "import json\n",
    "import re\n",
    "import pandas as pd\n",
    "import git\n",
    "from urllib.parse import urlparse\n",
    "import tldextract\n",
    "\n",
    "augur_app = augur.Application()('../augur.config.json')\n",
    "# we only need an instance of the GitHubAPI class\n",
    "g = augurApp.git()\n",
    "csv = augurApp.localcsv()\n",
    "augurApp.finalize_config()\n",
    "g.update()"
   ]
  },
  {
   "cell_type": "code",
   "execution_count": 7,
   "metadata": {},
   "outputs": [
    {
     "ename": "AttributeError",
     "evalue": "module 'augur' has no attribute 'Git'",
     "output_type": "error",
     "traceback": [
      "\u001b[0;31m---------------------------------------------------------------------------\u001b[0m",
      "\u001b[0;31mAttributeError\u001b[0m                            Traceback (most recent call last)",
      "\u001b[0;32m<ipython-input-7-e5d310795b90>\u001b[0m in \u001b[0;36m<module>\u001b[0;34m()\u001b[0m\n\u001b[1;32m     11\u001b[0m \u001b[0;34m\u001b[0m\u001b[0m\n\u001b[1;32m     12\u001b[0m \u001b[0;34m\u001b[0m\u001b[0m\n\u001b[0;32m---> 13\u001b[0;31m \u001b[0maugur\u001b[0m\u001b[0;34m.\u001b[0m\u001b[0mGit\u001b[0m\u001b[0;34m.\u001b[0m\u001b[0mdownloaded_repos\u001b[0m \u001b[0;34m=\u001b[0m \u001b[0mdownloaded_repos\u001b[0m\u001b[0;34m\u001b[0m\u001b[0m\n\u001b[0m\u001b[1;32m     14\u001b[0m \u001b[0mgit_instance\u001b[0m\u001b[0;34m.\u001b[0m\u001b[0mdownloaded_repos\u001b[0m\u001b[0;34m(\u001b[0m\u001b[0;34m)\u001b[0m\u001b[0;34m\u001b[0m\u001b[0m\n",
      "\u001b[0;31mAttributeError\u001b[0m: module 'augur' has no attribute 'Git'"
     ]
    }
   ],
   "source": [
    "def downloaded_repos(self):\n",
    "    urls = []\n",
    "    for entry in os.scandir(self._folder):\n",
    "        if entry.is_dir():\n",
    "            try:\n",
    "                repo = git.Repo(os.path.join(self._folder, entry.name))\n",
    "                urls.append(repo.remotes.origin.url)\n",
    "            except:\n",
    "                continue\n",
    "    return urls\n",
    "    \n",
    "\n",
    "augur.Git.downloaded_repos = downloaded_repos\n",
    "git_instance.downloaded_repos()"
   ]
  },
  {
   "cell_type": "code",
   "execution_count": null,
   "metadata": {},
   "outputs": [],
   "source": []
  }
 ],
 "metadata": {
  "kernelspec": {
   "display_name": "Python (augur)",
   "language": "python",
   "name": "augur"
  },
  "language_info": {
   "codemirror_mode": {
    "name": "ipython",
    "version": 3
   },
   "file_extension": ".py",
   "mimetype": "text/x-python",
   "name": "python",
   "nbconvert_exporter": "python",
   "pygments_lexer": "ipython3",
   "version": "3.6.5"
  }
 },
 "nbformat": 4,
 "nbformat_minor": 2
}
