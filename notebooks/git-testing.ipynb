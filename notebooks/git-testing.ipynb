{
 "cells": [
  {
   "cell_type": "code",
   "execution_count": 1,
   "metadata": {},
   "outputs": [
    {
     "name": "stderr",
     "output_type": "stream",
     "text": [
      "2018-05-21 17:30:18 augur[89285] INFO Git: Updating https://github.com/OSSHealth/augur.git\n"
     ]
    }
   ],
   "source": [
    "import augur\n",
    "\n",
    "import os\n",
    "import io\n",
    "import shutil\n",
    "import pandas as pd\n",
    "from dulwich.repo import Repo\n",
    "from dulwich import porcelain as git\n",
    "\n",
    "augurApp = augur.Application('../augur.config.json')\n",
    "# we only need an instance of the GitHubAPI class\n",
    "git_instance = augurApp.git()\n",
    "augurApp.finalize_config()"
   ]
  },
  {
   "cell_type": "code",
   "execution_count": 2,
   "metadata": {},
   "outputs": [
    {
     "data": {
      "text/plain": [
       "<Repo at '/Users/howderek/Projects/Python/augur/runtime/git_repos/augur'>"
      ]
     },
     "execution_count": 2,
     "metadata": {},
     "output_type": "execute_result"
    }
   ],
   "source": [
    "git_instance.lines_changed_minus_whitespace('https://github.com/OSSHealth/augur.git')"
   ]
  },
  {
   "cell_type": "code",
   "execution_count": null,
   "metadata": {},
   "outputs": [],
   "source": []
  }
 ],
 "metadata": {
  "kernelspec": {
   "display_name": "Python (augur)",
   "language": "python",
   "name": "augur"
  },
  "language_info": {
   "codemirror_mode": {
    "name": "ipython",
    "version": 3
   },
   "file_extension": ".py",
   "mimetype": "text/x-python",
   "name": "python",
   "nbconvert_exporter": "python",
   "pygments_lexer": "ipython3",
   "version": "3.6.5"
  }
 },
 "nbformat": 4,
 "nbformat_minor": 2
}
