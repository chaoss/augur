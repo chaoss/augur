{
 "cells": [
  {
   "cell_type": "code",
   "execution_count": 1,
   "metadata": {},
   "outputs": [
    {
     "name": "stderr",
     "output_type": "stream",
     "text": [
      "2018-05-23 11:37:58 git.cmd[28379] DEBUG Popen(['git', 'version'], cwd=/Users/howderek/Projects/Python/augur/notebooks, universal_newlines=False, shell=None)\n",
      "2018-05-23 11:37:58 git.cmd[28379] DEBUG Popen(['git', 'version'], cwd=/Users/howderek/Projects/Python/augur/notebooks, universal_newlines=False, shell=None)\n",
      "2018-05-23 11:37:58 augur[28379] DEBUG Initializing Git\n",
      "2018-05-23 11:37:58 augur[28379] DEBUG Initializing LocalCSV\n",
      "2018-05-23 11:37:58 augur[28379] INFO Git: Updating https://github.com/OSSHealth/augur.git\n",
      "2018-05-23 11:37:58 augur[28379] DEBUG Pulling https://github.com/OSSHealth/augur.git\n",
      "2018-05-23 11:37:58 git.cmd[28379] DEBUG Popen(['git', 'pull'], cwd=/Users/howderek/Projects/Python/augur/runtime/git_repos/augur, universal_newlines=False, shell=None)\n"
     ]
    }
   ],
   "source": [
    "import augur\n",
    "from augur import logger\n",
    "\n",
    "import os\n",
    "import io\n",
    "import shutil\n",
    "import json\n",
    "import re\n",
    "import pandas as pd\n",
    "import git\n",
    "from urllib.parse import urlparse\n",
    "import tldextract\n",
    "\n",
    "augurApp = augur.Application('../augur.config.json')\n",
    "# we only need an instance of the GitHubAPI class\n",
    "git_instance = augurApp.git()\n",
    "csv = augurApp.localcsv()\n",
    "augurApp.finalize_config()"
   ]
  },
  {
   "cell_type": "code",
   "execution_count": 12,
   "metadata": {},
   "outputs": [
    {
     "data": {
      "text/plain": [
       "['https://github.com/OSSHealth/augur.git']"
      ]
     },
     "execution_count": 12,
     "metadata": {},
     "output_type": "execute_result"
    }
   ],
   "source": [
    "def downloaded_repos(self):\n",
    "    urls = []\n",
    "    for entry in os.scandir(self._folder):\n",
    "        if entry.is_dir():\n",
    "            try:\n",
    "                repo = git.Repo(os.path.join(self._folder, entry.name))\n",
    "                urls.append(repo.remotes.origin.url)\n",
    "            except:\n",
    "                continue\n",
    "    return urls\n",
    "    \n",
    "\n",
    "augur.Git.downloaded_repos = downloaded_repos\n",
    "git_instance.downloaded_repos()"
   ]
  },
  {
   "cell_type": "code",
   "execution_count": null,
   "metadata": {},
   "outputs": [],
   "source": []
  }
 ],
 "metadata": {
  "kernelspec": {
   "display_name": "Python (augur)",
   "language": "python",
   "name": "augur"
  },
  "language_info": {
   "codemirror_mode": {
    "name": "ipython",
    "version": 3
   },
   "file_extension": ".py",
   "mimetype": "text/x-python",
   "name": "python",
   "nbconvert_exporter": "python",
   "pygments_lexer": "ipython3",
   "version": "3.6.5"
  }
 },
 "nbformat": 4,
 "nbformat_minor": 2
}
