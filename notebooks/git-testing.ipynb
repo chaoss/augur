{
 "cells": [
  {
   "cell_type": "code",
   "execution_count": 1,
   "metadata": {},
   "outputs": [
    {
     "name": "stderr",
     "output_type": "stream",
     "text": [
      "2018-05-21 18:43:59 augur[93428] INFO Git: Updating https://github.com/OSSHealth/augur.git\n",
      "2018-05-21 18:44:00 augur[93428] INFO Git: Updating git://anongit.freedesktop.org/git/cairo\n"
     ]
    }
   ],
   "source": [
    "import augur\n",
    "\n",
    "import os\n",
    "import io\n",
    "import shutil\n",
    "import pandas as pd\n",
    "from dulwich.repo import Repo\n",
    "from dulwich import porcelain as git\n",
    "\n",
    "augurApp = augur.Application('../augur.config.json')\n",
    "# we only need an instance of the GitHubAPI class\n",
    "git_instance = augurApp.git()\n",
    "augurApp.finalize_config()"
   ]
  },
  {
   "cell_type": "code",
   "execution_count": 2,
   "metadata": {},
   "outputs": [
    {
     "data": {
      "text/plain": [
       "<Repo at '/Users/howderek/Projects/Python/augur/runtime/git_repos/augur'>"
      ]
     },
     "execution_count": 2,
     "metadata": {},
     "output_type": "execute_result"
    }
   ],
   "source": [
    "def lines_changed_minus_whitespace(self, repo_url):\n",
    "        \"\"\"\n",
    "        Makes sure the storageFolder contains updated versions of all the repos\n",
    "        \"\"\"\n",
    "        repo = self.get_repo_object(repo_url)\n",
    "        df = pd.DataFrame(columns=['commit', 'date', 'author', 'additions', 'whitespace_additions', 'deletions', 'whitespace_deletions'])\n",
    "        \n",
    "        return repo\n",
    "    \n",
    "augur.Git.lines_changed_minus_whitespace = lines_changed_minus_whitespace\n",
    "git_instance.lines_changed_minus_whitespace('https://github.com/OSSHealth/augur.git')"
   ]
  },
  {
   "cell_type": "code",
   "execution_count": null,
   "metadata": {},
   "outputs": [],
   "source": []
  }
 ],
 "metadata": {
  "kernelspec": {
   "display_name": "Python (augur)",
   "language": "python",
   "name": "augur"
  },
  "language_info": {
   "codemirror_mode": {
    "name": "ipython",
    "version": 3
   },
   "file_extension": ".py",
   "mimetype": "text/x-python",
   "name": "python",
   "nbconvert_exporter": "python",
   "pygments_lexer": "ipython3",
   "version": "3.6.5"
  }
 },
 "nbformat": 4,
 "nbformat_minor": 2
}
