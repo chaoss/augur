{
 "cells": [
  {
   "cell_type": "code",
   "execution_count": 44,
   "metadata": {},
   "outputs": [],
   "source": [
    "##Structured Prediction using conditional random field"
   ]
  },
  {
   "cell_type": "markdown",
   "metadata": {},
   "source": [
    "Import necessary libraries. CRF is implemented in sklearn_crfsuite"
   ]
  },
  {
   "cell_type": "code",
   "execution_count": 50,
   "metadata": {},
   "outputs": [],
   "source": [
    "import pandas as pd\n",
    "from sklearn.model_selection import train_test_split\n",
    "from sklearn.feature_extraction.text import CountVectorizer\n",
    "from sklearn.feature_extraction.text import TfidfVectorizer\n",
    "from sklearn.model_selection import cross_val_score\n",
    "import scipy\n",
    "import sklearn_crfsuite\n",
    "from sklearn_crfsuite import scorers\n",
    "from sklearn_crfsuite import metrics\n",
    "from sklearn.metrics import make_scorer\n",
    "from sklearn.model_selection import cross_val_score\n",
    "from sklearn.model_selection import RandomizedSearchCV\n",
    "import pickle"
   ]
  },
  {
   "cell_type": "code",
   "execution_count": null,
   "metadata": {},
   "outputs": [],
   "source": []
  },
  {
   "cell_type": "markdown",
   "metadata": {},
   "source": [
    "A function to convert the text data into a format suitable for structured prediction using conditional random field. First, text data is converted into feature vector using \n",
    "tfidf vectorizer. Then feature vectors corresponding to messages within same threads are grouped together."
   ]
  },
  {
   "cell_type": "code",
   "execution_count": 51,
   "metadata": {},
   "outputs": [],
   "source": [
    "def create_features_for_structured_prediction(df, text_data_column_name, group_by_column_name, label_available=True, tfidf_transformer=None):\n",
    "\n",
    "    list_feature_dict = []\n",
    "    for text in df[text_data_column_name]:\n",
    "        feature_dict = tfidf_transformer.transform([text]).todok()\n",
    "        feature_dict_n = {}\n",
    "        for key,value in feature_dict.items():\n",
    "            feature_dict_n[str(key)] = value\n",
    "        list_feature_dict.append(feature_dict_n)\n",
    "    df['tfidf_features'] = list_feature_dict\n",
    "    df_group_by_thread = df.groupby(group_by_column_name)\n",
    "    X_all = [] # Each element is a list of features corresponding to messages in a thread\n",
    "    if label_available : y_all = [] # Each element is a list of labels assigned to messages in a thread\n",
    "\n",
    "    for name, group in df_group_by_thread:\n",
    "    #print(name)\n",
    "        X_cur = []\n",
    "        if label_available : y_cur = []\n",
    "        for ind, row in group.iterrows():\n",
    "            X_cur.append(row['tfidf_features'])\n",
    "            if label_available : y_cur.append(row['majority_type'])   \n",
    "        X_all.append(X_cur)\n",
    "        if label_available : y_all.append(y_cur)\n",
    "    if label_available : return X_all, y_all\n",
    "    return X_all"
   ]
  },
  {
   "cell_type": "markdown",
   "metadata": {},
   "source": [
    "Load the reddit thread discussion dataset with discourse act labels. The dataset is used for training a model and hyperparamter selection."
   ]
  },
  {
   "cell_type": "code",
   "execution_count": 52,
   "metadata": {},
   "outputs": [],
   "source": [
    "reddit_df = pd.read_json('coarse_discourse_reddit_filtered.json')\n",
    "#reddit_df.sort_values(by=['title'], inplace=True)"
   ]
  },
  {
   "cell_type": "code",
   "execution_count": 53,
   "metadata": {},
   "outputs": [],
   "source": [
    "labels = list(reddit_df.majority_type.unique())"
   ]
  },
  {
   "cell_type": "markdown",
   "metadata": {},
   "source": [
    "converting text data to feature vectors. Same transformer is used in prediction phase."
   ]
  },
  {
   "cell_type": "code",
   "execution_count": 54,
   "metadata": {},
   "outputs": [],
   "source": [
    "tfidf_vectorizer = TfidfVectorizer(stop_words='english', token_pattern=r\"(?u)\\b\\w\\w+\\b|!|\\?\", max_features=1000) #token pattern because we want to preserve ? and !\n",
    "tfidf_transformer = tfidf_vectorizer.fit(reddit_df['body'])"
   ]
  },
  {
   "cell_type": "code",
   "execution_count": null,
   "metadata": {},
   "outputs": [],
   "source": [
    "Load the github dataset to make prediction on"
   ]
  },
  {
   "cell_type": "code",
   "execution_count": 55,
   "metadata": {},
   "outputs": [],
   "source": [
    "git_df = pd.read_csv(\"repository_messages_all.csv\",error_bad_lines=False,delimiter=',')\n",
    "git_df.sort_values(by=['thread_id'], inplace=True)"
   ]
  },
  {
   "cell_type": "code",
   "execution_count": 56,
   "metadata": {},
   "outputs": [],
   "source": [
    "X_all, y_all = create_features_for_structured_prediction(reddit_df,'body','title', True, tfidf_transformer)"
   ]
  },
  {
   "cell_type": "markdown",
   "metadata": {},
   "source": [
    "Split the dataset into training set and validation set"
   ]
  },
  {
   "cell_type": "code",
   "execution_count": 57,
   "metadata": {},
   "outputs": [],
   "source": [
    "X_train, X_test, y_train, y_test = train_test_split(X_all, y_all, test_size=0.2)"
   ]
  },
  {
   "cell_type": "markdown",
   "metadata": {},
   "source": [
    "Train the crf model with lbfgs algorithm. The hyperparameter search is perfomed to select the best model using 3 fold cross validation "
   ]
  },
  {
   "cell_type": "code",
   "execution_count": 58,
   "metadata": {},
   "outputs": [
    {
     "name": "stderr",
     "output_type": "stream",
     "text": [
      "c:\\users\\sarit\\.conda\\envs\\python3\\lib\\site-packages\\sklearn\\base.py:209: FutureWarning: From version 0.24, get_params will raise an AttributeError if a parameter cannot be retrieved as an instance attribute. Previously it would return None.\n",
      "  warnings.warn('From version 0.24, get_params will raise an '\n",
      "[Parallel(n_jobs=-1)]: Using backend LokyBackend with 4 concurrent workers.\n"
     ]
    },
    {
     "name": "stdout",
     "output_type": "stream",
     "text": [
      "Fitting 3 folds for each of 50 candidates, totalling 150 fits\n"
     ]
    },
    {
     "name": "stderr",
     "output_type": "stream",
     "text": [
      "[Parallel(n_jobs=-1)]: Done  42 tasks      | elapsed:  8.5min\n",
      "[Parallel(n_jobs=-1)]: Done 150 out of 150 | elapsed: 34.9min finished\n"
     ]
    },
    {
     "data": {
      "text/plain": [
       "RandomizedSearchCV(cv=3,\n",
       "                   estimator=CRF(algorithm='lbfgs',\n",
       "                                 all_possible_transitions=True,\n",
       "                                 keep_tempfiles=None, max_iterations=100),\n",
       "                   n_iter=50, n_jobs=-1,\n",
       "                   param_distributions={'c1': <scipy.stats._distn_infrastructure.rv_frozen object at 0x0000000029080E20>,\n",
       "                                        'c2': <scipy.stats._distn_infrastructure.rv_frozen object at 0x00000000272F2190>},\n",
       "                   scoring=make_scorer(flat_f1_score, average=weighted, labels=['announcement', 'elaboration', 'appreciation', 'question', 'answer', 'agreement', 'negativereaction', 'disagreement', 'humor', 'other']),\n",
       "                   verbose=1)"
      ]
     },
     "execution_count": 58,
     "metadata": {},
     "output_type": "execute_result"
    }
   ],
   "source": [
    "\n",
    "crf = sklearn_crfsuite.CRF(\n",
    "    algorithm='lbfgs',\n",
    "    max_iterations=100,\n",
    "    all_possible_transitions=True\n",
    ")\n",
    "params_space = {\n",
    "    'c1': scipy.stats.expon(scale=0.5),\n",
    "    'c2': scipy.stats.expon(scale=0.05),\n",
    "}\n",
    "\n",
    "\n",
    "\n",
    "# use the same metric for evaluation\n",
    "f1_scorer = make_scorer(metrics.flat_f1_score,\n",
    "                        average='weighted', labels=labels)\n",
    "\n",
    "# search\n",
    "crf_models = RandomizedSearchCV(crf, params_space,\n",
    "                        cv=3,\n",
    "                        verbose=1,\n",
    "                        n_jobs=-1,\n",
    "                        n_iter=50,\n",
    "                        scoring=f1_scorer)\n",
    "crf_models.fit(X_train, y_train)"
   ]
  },
  {
   "cell_type": "code",
   "execution_count": 59,
   "metadata": {},
   "outputs": [
    {
     "name": "stdout",
     "output_type": "stream",
     "text": [
      "best params: {'c1': 0.2880636867671778, 'c2': 0.010811969362834552}\n",
      "best CV score: 0.5318877377286336\n"
     ]
    }
   ],
   "source": [
    "print('best params:', crf_models.best_params_)\n",
    "print('best CV score:', crf_models.best_score_)\n",
    "crf = crf_models.best_estimator_"
   ]
  },
  {
   "cell_type": "code",
   "execution_count": 60,
   "metadata": {},
   "outputs": [
    {
     "name": "stderr",
     "output_type": "stream",
     "text": [
      "c:\\users\\sarit\\.conda\\envs\\python3\\lib\\site-packages\\sklearn\\utils\\validation.py:68: FutureWarning: Pass labels=['announcement', 'elaboration', 'appreciation', 'question', 'answer', 'agreement', 'negativereaction', 'disagreement', 'humor', 'other'] as keyword args. From version 0.25 passing these as positional arguments will result in an error\n",
      "  warnings.warn(\"Pass {} as keyword args. From version 0.25 \"\n"
     ]
    },
    {
     "name": "stdout",
     "output_type": "stream",
     "text": [
      "                  precision    recall  f1-score   support\n",
      "\n",
      "    announcement      0.571     0.384     0.460       385\n",
      "     elaboration      0.366     0.148     0.211      3663\n",
      "    appreciation      0.743     0.599     0.663      1679\n",
      "        question      0.776     0.783     0.779      3520\n",
      "          answer      0.551     0.881     0.678      7870\n",
      "       agreement      0.592     0.147     0.236      1005\n",
      "negativereaction      0.263     0.030     0.054       332\n",
      "    disagreement      0.161     0.023     0.040       651\n",
      "           humor      0.141     0.052     0.076       424\n",
      "           other      0.160     0.045     0.070       334\n",
      "\n",
      "        accuracy                          0.584     19863\n",
      "       macro avg      0.432     0.309     0.327     19863\n",
      "    weighted avg      0.542     0.584     0.528     19863\n",
      "\n"
     ]
    }
   ],
   "source": [
    "y_pred = crf.predict(X_test)\n",
    "print(metrics.flat_classification_report(\n",
    "    y_test, y_pred, labels=labels, digits=3\n",
    "))"
   ]
  },
  {
   "cell_type": "markdown",
   "metadata": {},
   "source": [
    "prepare the feature set for github data"
   ]
  },
  {
   "cell_type": "code",
   "execution_count": 61,
   "metadata": {},
   "outputs": [],
   "source": [
    "tfidf_transformer = tfidf_vectorizer.fit(reddit_df['body'])\n",
    "X_git = create_features_for_structured_prediction(git_df,'msg_text','thread_id', False, tfidf_transformer)"
   ]
  },
  {
   "cell_type": "markdown",
   "metadata": {},
   "source": [
    "using the best crf model selected in model selection phase, make prediction on data. Since the output is list of lists, we need to flatten the final prediction vector"
   ]
  },
  {
   "cell_type": "code",
   "execution_count": 62,
   "metadata": {},
   "outputs": [],
   "source": [
    "y_pred_git = crf.predict(X_git)\n",
    "y_pred_git_flat = [label for group in y_pred_git for label in group]\n",
    "git_df = git_df.drop(columns=['tfidf_features'])\n",
    "git_df['discourse_act'] = y_pred_git_flat"
   ]
  },
  {
   "cell_type": "code",
   "execution_count": 63,
   "metadata": {},
   "outputs": [
    {
     "data": {
      "text/html": [
       "<div>\n",
       "<style scoped>\n",
       "    .dataframe tbody tr th:only-of-type {\n",
       "        vertical-align: middle;\n",
       "    }\n",
       "\n",
       "    .dataframe tbody tr th {\n",
       "        vertical-align: top;\n",
       "    }\n",
       "\n",
       "    .dataframe thead th {\n",
       "        text-align: right;\n",
       "    }\n",
       "</style>\n",
       "<table border=\"1\" class=\"dataframe\">\n",
       "  <thead>\n",
       "    <tr style=\"text-align: right;\">\n",
       "      <th></th>\n",
       "      <th>repo_group_id</th>\n",
       "      <th>repo_id</th>\n",
       "      <th>repo_git</th>\n",
       "      <th>repo_name</th>\n",
       "      <th>thread_id</th>\n",
       "      <th>msg_text</th>\n",
       "      <th>thread_title</th>\n",
       "      <th>msg_id</th>\n",
       "      <th>discourse_act</th>\n",
       "    </tr>\n",
       "  </thead>\n",
       "  <tbody>\n",
       "    <tr>\n",
       "      <th>403297</th>\n",
       "      <td>25179</td>\n",
       "      <td>27239</td>\n",
       "      <td>https://github.com/pivotal-cf/cf-redis-release</td>\n",
       "      <td>cf-redis-release</td>\n",
       "      <td>209024</td>\n",
       "      <td>We've recently added spiff templates for Vsphe...</td>\n",
       "      <td>Template examples for spiff</td>\n",
       "      <td>1691707</td>\n",
       "      <td>elaboration</td>\n",
       "    </tr>\n",
       "    <tr>\n",
       "      <th>94328</th>\n",
       "      <td>25179</td>\n",
       "      <td>27239</td>\n",
       "      <td>https://github.com/pivotal-cf/cf-redis-release</td>\n",
       "      <td>cf-redis-release</td>\n",
       "      <td>209025</td>\n",
       "      <td>Merged into develop. Will appear in master onc...</td>\n",
       "      <td>Bosh lite manifest update</td>\n",
       "      <td>1691709</td>\n",
       "      <td>question</td>\n",
       "    </tr>\n",
       "    <tr>\n",
       "      <th>74559</th>\n",
       "      <td>25179</td>\n",
       "      <td>27239</td>\n",
       "      <td>https://github.com/pivotal-cf/cf-redis-release</td>\n",
       "      <td>cf-redis-release</td>\n",
       "      <td>209025</td>\n",
       "      <td>We have created an issue in Pivotal Tracker to...</td>\n",
       "      <td>Bosh lite manifest update</td>\n",
       "      <td>1691708</td>\n",
       "      <td>answer</td>\n",
       "    </tr>\n",
       "    <tr>\n",
       "      <th>17489</th>\n",
       "      <td>25179</td>\n",
       "      <td>27239</td>\n",
       "      <td>https://github.com/pivotal-cf/cf-redis-release</td>\n",
       "      <td>cf-redis-release</td>\n",
       "      <td>209026</td>\n",
       "      <td>We have created an issue in Pivotal Tracker to...</td>\n",
       "      <td>Add IAM policy for backup user</td>\n",
       "      <td>1691710</td>\n",
       "      <td>question</td>\n",
       "    </tr>\n",
       "    <tr>\n",
       "      <th>59301</th>\n",
       "      <td>25179</td>\n",
       "      <td>27239</td>\n",
       "      <td>https://github.com/pivotal-cf/cf-redis-release</td>\n",
       "      <td>cf-redis-release</td>\n",
       "      <td>209026</td>\n",
       "      <td>We're going to find a less open policy to reco...</td>\n",
       "      <td>Add IAM policy for backup user</td>\n",
       "      <td>1691711</td>\n",
       "      <td>answer</td>\n",
       "    </tr>\n",
       "    <tr>\n",
       "      <th>...</th>\n",
       "      <td>...</td>\n",
       "      <td>...</td>\n",
       "      <td>...</td>\n",
       "      <td>...</td>\n",
       "      <td>...</td>\n",
       "      <td>...</td>\n",
       "      <td>...</td>\n",
       "      <td>...</td>\n",
       "      <td>...</td>\n",
       "    </tr>\n",
       "    <tr>\n",
       "      <th>139873</th>\n",
       "      <td>25160</td>\n",
       "      <td>25942</td>\n",
       "      <td>https://github.com/spring-guides/gs-spring-boo...</td>\n",
       "      <td>gs-spring-boot-docker</td>\n",
       "      <td>559367</td>\n",
       "      <td>You could use the \"shell\" form of the `ENTRYPO...</td>\n",
       "      <td>Update this guide with Boot 2.3 features</td>\n",
       "      <td>2119054</td>\n",
       "      <td>elaboration</td>\n",
       "    </tr>\n",
       "    <tr>\n",
       "      <th>166534</th>\n",
       "      <td>25160</td>\n",
       "      <td>25942</td>\n",
       "      <td>https://github.com/spring-guides/gs-spring-boo...</td>\n",
       "      <td>gs-spring-boot-docker</td>\n",
       "      <td>559367</td>\n",
       "      <td>Thanks anyway, in fact, I wanna know why don't...</td>\n",
       "      <td>Update this guide with Boot 2.3 features</td>\n",
       "      <td>2119055</td>\n",
       "      <td>question</td>\n",
       "    </tr>\n",
       "    <tr>\n",
       "      <th>382475</th>\n",
       "      <td>25160</td>\n",
       "      <td>25942</td>\n",
       "      <td>https://github.com/spring-guides/gs-spring-boo...</td>\n",
       "      <td>gs-spring-boot-docker</td>\n",
       "      <td>559367</td>\n",
       "      <td>Yes, I know you can use the \"shell\" form  like...</td>\n",
       "      <td>Update this guide with Boot 2.3 features</td>\n",
       "      <td>2119058</td>\n",
       "      <td>answer</td>\n",
       "    </tr>\n",
       "    <tr>\n",
       "      <th>62129</th>\n",
       "      <td>25160</td>\n",
       "      <td>25942</td>\n",
       "      <td>https://github.com/spring-guides/gs-spring-boo...</td>\n",
       "      <td>gs-spring-boot-docker</td>\n",
       "      <td>559367</td>\n",
       "      <td>For reasons explained in the docker documentat...</td>\n",
       "      <td>Update this guide with Boot 2.3 features</td>\n",
       "      <td>2119056</td>\n",
       "      <td>answer</td>\n",
       "    </tr>\n",
       "    <tr>\n",
       "      <th>393943</th>\n",
       "      <td>25160</td>\n",
       "      <td>25942</td>\n",
       "      <td>https://github.com/spring-guides/gs-spring-boo...</td>\n",
       "      <td>gs-spring-boot-docker</td>\n",
       "      <td>559367</td>\n",
       "      <td>Hello?In the file named \"Dockerfile”，how can I...</td>\n",
       "      <td>Update this guide with Boot 2.3 features</td>\n",
       "      <td>2119053</td>\n",
       "      <td>question</td>\n",
       "    </tr>\n",
       "  </tbody>\n",
       "</table>\n",
       "<p>427856 rows × 9 columns</p>\n",
       "</div>"
      ],
      "text/plain": [
       "        repo_group_id  repo_id  \\\n",
       "403297          25179    27239   \n",
       "94328           25179    27239   \n",
       "74559           25179    27239   \n",
       "17489           25179    27239   \n",
       "59301           25179    27239   \n",
       "...               ...      ...   \n",
       "139873          25160    25942   \n",
       "166534          25160    25942   \n",
       "382475          25160    25942   \n",
       "62129           25160    25942   \n",
       "393943          25160    25942   \n",
       "\n",
       "                                                 repo_git  \\\n",
       "403297     https://github.com/pivotal-cf/cf-redis-release   \n",
       "94328      https://github.com/pivotal-cf/cf-redis-release   \n",
       "74559      https://github.com/pivotal-cf/cf-redis-release   \n",
       "17489      https://github.com/pivotal-cf/cf-redis-release   \n",
       "59301      https://github.com/pivotal-cf/cf-redis-release   \n",
       "...                                                   ...   \n",
       "139873  https://github.com/spring-guides/gs-spring-boo...   \n",
       "166534  https://github.com/spring-guides/gs-spring-boo...   \n",
       "382475  https://github.com/spring-guides/gs-spring-boo...   \n",
       "62129   https://github.com/spring-guides/gs-spring-boo...   \n",
       "393943  https://github.com/spring-guides/gs-spring-boo...   \n",
       "\n",
       "                    repo_name  thread_id  \\\n",
       "403297       cf-redis-release     209024   \n",
       "94328        cf-redis-release     209025   \n",
       "74559        cf-redis-release     209025   \n",
       "17489        cf-redis-release     209026   \n",
       "59301        cf-redis-release     209026   \n",
       "...                       ...        ...   \n",
       "139873  gs-spring-boot-docker     559367   \n",
       "166534  gs-spring-boot-docker     559367   \n",
       "382475  gs-spring-boot-docker     559367   \n",
       "62129   gs-spring-boot-docker     559367   \n",
       "393943  gs-spring-boot-docker     559367   \n",
       "\n",
       "                                                 msg_text  \\\n",
       "403297  We've recently added spiff templates for Vsphe...   \n",
       "94328   Merged into develop. Will appear in master onc...   \n",
       "74559   We have created an issue in Pivotal Tracker to...   \n",
       "17489   We have created an issue in Pivotal Tracker to...   \n",
       "59301   We're going to find a less open policy to reco...   \n",
       "...                                                   ...   \n",
       "139873  You could use the \"shell\" form of the `ENTRYPO...   \n",
       "166534  Thanks anyway, in fact, I wanna know why don't...   \n",
       "382475  Yes, I know you can use the \"shell\" form  like...   \n",
       "62129   For reasons explained in the docker documentat...   \n",
       "393943  Hello?In the file named \"Dockerfile”，how can I...   \n",
       "\n",
       "                                    thread_title   msg_id discourse_act  \n",
       "403297               Template examples for spiff  1691707   elaboration  \n",
       "94328                  Bosh lite manifest update  1691709      question  \n",
       "74559                  Bosh lite manifest update  1691708        answer  \n",
       "17489             Add IAM policy for backup user  1691710      question  \n",
       "59301             Add IAM policy for backup user  1691711        answer  \n",
       "...                                          ...      ...           ...  \n",
       "139873  Update this guide with Boot 2.3 features  2119054   elaboration  \n",
       "166534  Update this guide with Boot 2.3 features  2119055      question  \n",
       "382475  Update this guide with Boot 2.3 features  2119058        answer  \n",
       "62129   Update this guide with Boot 2.3 features  2119056        answer  \n",
       "393943  Update this guide with Boot 2.3 features  2119053      question  \n",
       "\n",
       "[427856 rows x 9 columns]"
      ]
     },
     "execution_count": 63,
     "metadata": {},
     "output_type": "execute_result"
    }
   ],
   "source": [
    "git_df"
   ]
  }
 ],
 "metadata": {
  "kernelspec": {
   "display_name": "Python 3",
   "language": "python",
   "name": "python3"
  },
  "language_info": {
   "codemirror_mode": {
    "name": "ipython",
    "version": 3
   },
   "file_extension": ".py",
   "mimetype": "text/x-python",
   "name": "python",
   "nbconvert_exporter": "python",
   "pygments_lexer": "ipython3",
   "version": "3.8.2"
  }
 },
 "nbformat": 4,
 "nbformat_minor": 4
}
