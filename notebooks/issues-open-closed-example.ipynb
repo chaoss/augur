{
 "cells": [
  {
   "cell_type": "code",
   "execution_count": 1,
   "metadata": {},
   "outputs": [
    {
     "name": "stderr",
     "output_type": "stream",
     "text": [
      "2018-07-04 00:53:01 mwc-037228.dhcp.missouri.edu augur[5485] ERROR /Users/carterlandis/Documents/Code/augur/augur.cfg could not be parsed, using defaults. Fix that file, or delete it and run this again to regenerate it. Error: Expecting value: line 1 column 1 (char 0)\n",
      "2018-07-04 00:53:01 mwc-037228.dhcp.missouri.edu augur[5485] ERROR Could not connect to GHTorrent database. Error: (pymysql.err.OperationalError) (2003, \"Can't connect to MySQL server on '127.0.0.1' ([Errno 61] Connection refused)\") (Background on this error at: http://sqlalche.me/e/e3q8)\n"
     ]
    }
   ],
   "source": [
    "import augur\n",
    "\n",
    "# import everything from githubapi.py and ghtorrent.py so we can\n",
    "# just copy and paste our function later\n",
    "import json\n",
    "import re\n",
    "from dateutil.parser import parse\n",
    "import pandas as pd\n",
    "import github\n",
    "import numpy as np\n",
    "import sqlalchemy as s\n",
    "import datetime\n",
    "import requests\n",
    "\n",
    "%matplotlib inline\n",
    "\n",
    "# create an Augur application so we can test our function\n",
    "augurApp = augur.Application('../augur.cfg')\n",
    "ghtorrent = augurApp.ghtorrent()"
   ]
  },
  {
   "cell_type": "code",
   "execution_count": 3,
   "metadata": {},
   "outputs": [
    {
     "ename": "AttributeError",
     "evalue": "module 'augur' has no attribute 'GHTorrent'",
     "output_type": "error",
     "traceback": [
      "\u001b[0;31m---------------------------------------------------------------------------\u001b[0m",
      "\u001b[0;31mAttributeError\u001b[0m                            Traceback (most recent call last)",
      "\u001b[0;32m<ipython-input-3-d01a3434e991>\u001b[0m in \u001b[0;36m<module>\u001b[0;34m()\u001b[0m\n\u001b[1;32m     78\u001b[0m     \u001b[0;32mreturn\u001b[0m \u001b[0mcounts\u001b[0m\u001b[0;34m\u001b[0m\u001b[0m\n\u001b[1;32m     79\u001b[0m \u001b[0;34m\u001b[0m\u001b[0m\n\u001b[0;32m---> 80\u001b[0;31m \u001b[0maugur\u001b[0m\u001b[0;34m.\u001b[0m\u001b[0mGHTorrent\u001b[0m\u001b[0;34m.\u001b[0m\u001b[0mcommunity_engagement\u001b[0m \u001b[0;34m=\u001b[0m \u001b[0mcommunity_engagement\u001b[0m\u001b[0;34m\u001b[0m\u001b[0m\n\u001b[0m",
      "\u001b[0;31mAttributeError\u001b[0m: module 'augur' has no attribute 'GHTorrent'"
     ]
    }
   ],
   "source": [
    "def community_engagement(self, owner, repo):\n",
    "    \"\"\"\n",
    "    Lots of information about issues and pull requests\n",
    "\n",
    "    TODO: More documentation\n",
    "\n",
    "    :param owner: The name of the project owner\n",
    "    :param repo: The name of the repo\n",
    "    :return: DataFrame with each row being a week\n",
    "    \"\"\"\n",
    "    repoid = self.repoid(owner, repo)\n",
    "    issuesFullSQL = s.sql.text(\"\"\"\n",
    "    SELECT DATE(date) as \"date\", \n",
    "           SUM(issues_opened) AS \"issues_opened\",\n",
    "           SUM(issues_closed) AS \"issues_closed\",\n",
    "           SUM(pull_requests_opened) AS \"pull_requests_opened\",\n",
    "           SUM(pull_requests_merged) AS \"pull_requests_merged\",\n",
    "           SUM(pull_requests_closed) AS \"pull_requests_closed\"\n",
    "\n",
    "    FROM (\n",
    "\n",
    "        SELECT issue_events.created_at as \"date\", \n",
    "               issue_events.action = \"closed\" AND issues.pull_request = 0  AS issues_closed,\n",
    "               0 AS pull_requests_closed,\n",
    "               0 AS pull_requests_merged,\n",
    "               issue_events.action = \"reopened\" AND issues.pull_request = 0 AS issues_opened,\n",
    "               0 AS pull_requests_opened\n",
    "        FROM issues\n",
    "        LEFT JOIN issue_events\n",
    "        ON issue_events.issue_id = issues.id\n",
    "        LEFT JOIN pull_request_history\n",
    "        ON pull_request_history.pull_request_id = issues.pull_request_id\n",
    "        WHERE issues.repo_id = :repoid\n",
    "\n",
    "        UNION ALL\n",
    "\n",
    "        SELECT pull_request_history.created_at as \"date\", \n",
    "               0 AS issues_closed,\n",
    "               pull_request_history.action = \"closed\" AND issues.pull_request = 1  AS pull_requests_closed,\n",
    "               pull_request_history.action = \"merged\" AND issues.pull_request = 1   AS pull_requests_merged,\n",
    "               0 AS issues_opened,\n",
    "               pull_request_history.action = \"reopened\" AND issues.pull_request = 1 AS pull_requests_opened\n",
    "        FROM issues\n",
    "        LEFT JOIN pull_request_history\n",
    "        ON pull_request_history.pull_request_id = issues.pull_request_id\n",
    "        WHERE issues.repo_id = :repoid\n",
    "\n",
    "        UNION ALL\n",
    "\n",
    "        SELECT issues.created_at as \"date\",\n",
    "               0 AS issues_closed,\n",
    "               0 AS pull_requests_closed,\n",
    "               0 AS pull_requests_merged,\n",
    "               issues.pull_request = 0 AS issues_opened,\n",
    "               issues.pull_request AS pull_requests_opened\n",
    "\n",
    "        FROM issues\n",
    "        WHERE issues.repo_id = :repoid\n",
    "\n",
    "    ) summary\n",
    "\n",
    "    GROUP BY YEARWEEK(date)\n",
    "    \"\"\")\n",
    "    counts = pd.read_sql(issuesFullSQL, self.db, params={\"repoid\": str(repoid)})\n",
    "    # counts.drop(0, inplace=True)\n",
    "    counts['issues_opened_total'] = counts.issues_opened.cumsum()\n",
    "    counts['issues_closed_total'] = counts.issues_closed.cumsum()\n",
    "    counts['issues_closed_rate_this_window'] = counts.issues_closed / counts.issues_opened\n",
    "    counts['issues_closed_rate_total'] = counts.issues_closed_total / counts.issues_opened_total\n",
    "    counts['issues_delta'] = counts.issues_opened - counts.issues_closed\n",
    "    counts['issues_open'] = counts['issues_delta'].cumsum()\n",
    "    counts['pull_requests_opened_total'] = counts.pull_requests_opened.cumsum()\n",
    "    counts['pull_requests_closed_total'] = counts.pull_requests_closed.cumsum()\n",
    "    counts['pull_requests_closed_rate_this_window'] = counts.pull_requests_closed / counts.pull_requests_opened\n",
    "    counts['pull_requests_closed_rate_total'] = counts.pull_requests_closed_total / counts.pull_requests_opened_total\n",
    "    counts['pull_requests_delta'] = counts.pull_requests_opened - counts.pull_requests_closed\n",
    "    counts['pull_requests_open'] = counts['pull_requests_delta'].cumsum()\n",
    "    return counts\n",
    "\n",
    "augur.GHTorrent.community_engagement = community_engagement"
   ]
  },
  {
   "cell_type": "code",
   "execution_count": 6,
   "metadata": {
    "collapsed": true
   },
   "outputs": [],
   "source": [
    "# Get the dataframe\n",
    "com_eng_df = ghtorrent.community_engagement('rails', 'rails')\n",
    "com_eng_df = com_eng_df.set_index(['date'])"
   ]
  },
  {
   "cell_type": "code",
   "execution_count": 7,
   "metadata": {},
   "outputs": [
    {
     "data": {
      "text/plain": [
       "<matplotlib.axes._subplots.AxesSubplot at 0x113e0b668>"
      ]
     },
     "execution_count": 7,
     "metadata": {},
     "output_type": "execute_result"
    },
    {
     "data": {
      "image/png": "[encoded data removed]",
      "text/plain": [
       "<Figure size 432x288 with 1 Axes>"
      ]
     },
     "metadata": {},
     "output_type": "display_data"
    }
   ],
   "source": [
    "# Issues open\n",
    "com_eng_df['issues_open'].plot()"
   ]
  },
  {
   "cell_type": "code",
   "execution_count": 8,
   "metadata": {},
   "outputs": [
    {
     "data": {
      "text/plain": [
       "<matplotlib.axes._subplots.AxesSubplot at 0x113e590f0>"
      ]
     },
     "execution_count": 8,
     "metadata": {},
     "output_type": "execute_result"
    },
    {
     "data": {
      "image/png": "[encoded data removed]",
      "text/plain": [
       "<Figure size 432x288 with 1 Axes>"
      ]
     },
     "metadata": {},
     "output_type": "display_data"
    }
   ],
   "source": [
    "# Issues open\n",
    "com_eng_df['issues_closed_total'].plot()"
   ]
  },
  {
   "cell_type": "code",
   "execution_count": null,
   "metadata": {
    "collapsed": true
   },
   "outputs": [],
   "source": []
  }
 ],
 "metadata": {
  "kernelspec": {
   "display_name": "Python (augur)",
   "language": "python",
   "name": "augur"
  },
  "language_info": {
   "codemirror_mode": {
    "name": "ipython",
    "version": 3
   },
   "file_extension": ".py",
   "mimetype": "text/x-python",
   "name": "python",
   "nbconvert_exporter": "python",
   "pygments_lexer": "ipython3",
   "version": "3.6.3"
  }
 },
 "nbformat": 4,
 "nbformat_minor": 2
}
