{
 "cells": [
  {
   "cell_type": "markdown",
   "metadata": {},
   "source": [
    "### Sentiment analysis on messages"
   ]
  },
  {
   "cell_type": "code",
   "execution_count": 1,
   "metadata": {},
   "outputs": [
    {
     "name": "stderr",
     "output_type": "stream",
     "text": [
      "Using TensorFlow backend.\n"
     ]
    },
    {
     "name": "stdout",
     "output_type": "stream",
     "text": [
      "Using default train set\n",
      "Reading data from oracle db..\n",
      "Training classifier model..\n",
      "Preprocessing done\n",
      "Tfidf done\n",
      "Training done\n"
     ]
    }
   ],
   "source": [
    "import warnings\n",
    "warnings.filterwarnings('ignore')\n",
    "import pandas as pd\n",
    "import numpy as np\n",
    "import re\n",
    "from numpy import save, load\n",
    "import sqlalchemy as s\n",
    "import unicodedata\n",
    "import time\n",
    "from sqlalchemy import create_engine\n",
    "\n",
    "# Importing SentiCR\n",
    "from Sentiment import SentiCR\n",
    "# Perform training or used trained model if exists. \n",
    "# Can specify param: algo here like XGB, GBT (eventually best will be used)\n",
    "sentiment_analyzer = SentiCR(algo = 'XGB' )\n"
   ]
  },
  {
   "cell_type": "code",
   "execution_count": 2,
   "metadata": {},
   "outputs": [],
   "source": [
    "# Connection to local Postgres database"
   ]
  },
  {
   "cell_type": "code",
   "execution_count": 3,
   "metadata": {},
   "outputs": [],
   "source": [
    "repo_id = 25774\n",
    "\n",
    "# Fetch PR and issue messages of repo_id\n",
    "join_SQL = s.sql.text(\"\"\"\n",
    "       select message.msg_id, msg_timestamp,  msg_text from augur_data.message\n",
    "left outer join augur_data.pull_request_message_ref on message.msg_id = pull_request_message_ref.msg_id \n",
    "left outer join augur_data.pull_requests on pull_request_message_ref.pull_request_id = pull_requests.pull_request_id\n",
    "where repo_id = :repo_id\n",
    "UNION\n",
    "select message.msg_id, msg_timestamp, msg_text from augur_data.message\n",
    "left outer join augur_data.issue_message_ref on message.msg_id = issue_message_ref.msg_id \n",
    "left outer join augur_data.issues on issue_message_ref.issue_id = issues.issue_id\n",
    "where repo_id = :repo_id\n",
    "\"\"\")\n",
    "\n",
    "# Transfer to Pandas df\n",
    "df_message = pd.read_sql_query(join_SQL, engine, params={'repo_id': repo_id})"
   ]
  },
  {
   "cell_type": "code",
   "execution_count": 4,
   "metadata": {},
   "outputs": [
    {
     "data": {
      "text/html": [
       "<div>\n",
       "<style scoped>\n",
       "    .dataframe tbody tr th:only-of-type {\n",
       "        vertical-align: middle;\n",
       "    }\n",
       "\n",
       "    .dataframe tbody tr th {\n",
       "        vertical-align: top;\n",
       "    }\n",
       "\n",
       "    .dataframe thead th {\n",
       "        text-align: right;\n",
       "    }\n",
       "</style>\n",
       "<table border=\"1\" class=\"dataframe\">\n",
       "  <thead>\n",
       "    <tr style=\"text-align: right;\">\n",
       "      <th></th>\n",
       "      <th>msg_id</th>\n",
       "      <th>msg_timestamp</th>\n",
       "      <th>msg_text</th>\n",
       "    </tr>\n",
       "  </thead>\n",
       "  <tbody>\n",
       "    <tr>\n",
       "      <th>0</th>\n",
       "      <td>1732709</td>\n",
       "      <td>2014-03-10 21:20:54</td>\n",
       "      <td>Hi Artem, can you take another pass over this ...</td>\n",
       "    </tr>\n",
       "    <tr>\n",
       "      <th>1</th>\n",
       "      <td>1734278</td>\n",
       "      <td>2014-05-01 17:01:48</td>\n",
       "      <td>Found one thing I want to change before review...</td>\n",
       "    </tr>\n",
       "    <tr>\n",
       "      <th>2</th>\n",
       "      <td>1728841</td>\n",
       "      <td>2013-09-23 15:18:57</td>\n",
       "      <td>We probably need to look into some options to ...</td>\n",
       "    </tr>\n",
       "    <tr>\n",
       "      <th>3</th>\n",
       "      <td>1727849</td>\n",
       "      <td>2013-08-12 17:35:10</td>\n",
       "      <td>Merged after review and testing. The tab compl...</td>\n",
       "    </tr>\n",
       "    <tr>\n",
       "      <th>4</th>\n",
       "      <td>1731943</td>\n",
       "      <td>2014-01-28 14:13:52</td>\n",
       "      <td>&gt; Also, looking at JobsController, those are n...</td>\n",
       "    </tr>\n",
       "    <tr>\n",
       "      <th>...</th>\n",
       "      <td>...</td>\n",
       "      <td>...</td>\n",
       "      <td>...</td>\n",
       "    </tr>\n",
       "    <tr>\n",
       "      <th>4417</th>\n",
       "      <td>1742283</td>\n",
       "      <td>2015-04-24 23:15:38</td>\n",
       "      <td>LGTM, rebased and merged into master 8a40e9d22...</td>\n",
       "    </tr>\n",
       "    <tr>\n",
       "      <th>4418</th>\n",
       "      <td>1740237</td>\n",
       "      <td>2015-01-14 15:21:06</td>\n",
       "      <td>LGTM Starting Acceptance Test Pass.\\n</td>\n",
       "    </tr>\n",
       "    <tr>\n",
       "      <th>4419</th>\n",
       "      <td>1726954</td>\n",
       "      <td>2013-07-23 17:52:57</td>\n",
       "      <td>I meant that your solution does modules-&gt;dirt....</td>\n",
       "    </tr>\n",
       "    <tr>\n",
       "      <th>4420</th>\n",
       "      <td>1736136</td>\n",
       "      <td>2014-06-23 18:10:57</td>\n",
       "      <td>Good catch. LGTM; merging.\\n</td>\n",
       "    </tr>\n",
       "    <tr>\n",
       "      <th>4421</th>\n",
       "      <td>1739913</td>\n",
       "      <td>2014-12-17 16:01:08</td>\n",
       "      <td>should really not need to mess with programmat...</td>\n",
       "    </tr>\n",
       "  </tbody>\n",
       "</table>\n",
       "<p>4422 rows × 3 columns</p>\n",
       "</div>"
      ],
      "text/plain": [
       "       msg_id       msg_timestamp  \\\n",
       "0     1732709 2014-03-10 21:20:54   \n",
       "1     1734278 2014-05-01 17:01:48   \n",
       "2     1728841 2013-09-23 15:18:57   \n",
       "3     1727849 2013-08-12 17:35:10   \n",
       "4     1731943 2014-01-28 14:13:52   \n",
       "...       ...                 ...   \n",
       "4417  1742283 2015-04-24 23:15:38   \n",
       "4418  1740237 2015-01-14 15:21:06   \n",
       "4419  1726954 2013-07-23 17:52:57   \n",
       "4420  1736136 2014-06-23 18:10:57   \n",
       "4421  1739913 2014-12-17 16:01:08   \n",
       "\n",
       "                                               msg_text  \n",
       "0     Hi Artem, can you take another pass over this ...  \n",
       "1     Found one thing I want to change before review...  \n",
       "2     We probably need to look into some options to ...  \n",
       "3     Merged after review and testing. The tab compl...  \n",
       "4     > Also, looking at JobsController, those are n...  \n",
       "...                                                 ...  \n",
       "4417  LGTM, rebased and merged into master 8a40e9d22...  \n",
       "4418              LGTM Starting Acceptance Test Pass.\\n  \n",
       "4419  I meant that your solution does modules->dirt....  \n",
       "4420                       Good catch. LGTM; merging.\\n  \n",
       "4421  should really not need to mess with programmat...  \n",
       "\n",
       "[4422 rows x 3 columns]"
      ]
     },
     "execution_count": 4,
     "metadata": {},
     "output_type": "execute_result"
    }
   ],
   "source": [
    "df_message"
   ]
  },
  {
   "cell_type": "code",
   "execution_count": 5,
   "metadata": {},
   "outputs": [],
   "source": [
    "# Function to get sentiment score\n",
    "def get_senti_score(df,col):\n",
    "    start_time = time.time()\n",
    "    siz = df.shape[0]\n",
    "    i = 0\n",
    "    val = []\n",
    "    while (i<siz):\n",
    "        score = sentiment_analyzer.get_sentiment_polarity(df.iloc[i][col])\n",
    "        val.append(score)\n",
    "        i+=1\n",
    "    val = np.array(val)\n",
    "    df['pred_senti'] = val\n",
    "    print(\"--- %s seconds ---\" % (time.time() - start_time))    \n"
   ]
  },
  {
   "cell_type": "code",
   "execution_count": 6,
   "metadata": {},
   "outputs": [
    {
     "name": "stdout",
     "output_type": "stream",
     "text": [
      "--- 10.944270372390747 seconds ---\n"
     ]
    }
   ],
   "source": [
    "# Getting senti score on our data\n",
    "get_senti_score(df_message,'msg_text')"
   ]
  },
  {
   "cell_type": "code",
   "execution_count": 7,
   "metadata": {},
   "outputs": [
    {
     "data": {
      "text/html": [
       "<div>\n",
       "<style scoped>\n",
       "    .dataframe tbody tr th:only-of-type {\n",
       "        vertical-align: middle;\n",
       "    }\n",
       "\n",
       "    .dataframe tbody tr th {\n",
       "        vertical-align: top;\n",
       "    }\n",
       "\n",
       "    .dataframe thead th {\n",
       "        text-align: right;\n",
       "    }\n",
       "</style>\n",
       "<table border=\"1\" class=\"dataframe\">\n",
       "  <thead>\n",
       "    <tr style=\"text-align: right;\">\n",
       "      <th></th>\n",
       "      <th>msg_id</th>\n",
       "      <th>msg_timestamp</th>\n",
       "      <th>msg_text</th>\n",
       "      <th>pred_senti</th>\n",
       "    </tr>\n",
       "  </thead>\n",
       "  <tbody>\n",
       "    <tr>\n",
       "      <th>0</th>\n",
       "      <td>1732709</td>\n",
       "      <td>2014-03-10 21:20:54</td>\n",
       "      <td>Hi Artem, can you take another pass over this ...</td>\n",
       "      <td>1.0</td>\n",
       "    </tr>\n",
       "    <tr>\n",
       "      <th>1</th>\n",
       "      <td>1734278</td>\n",
       "      <td>2014-05-01 17:01:48</td>\n",
       "      <td>Found one thing I want to change before review...</td>\n",
       "      <td>0.0</td>\n",
       "    </tr>\n",
       "    <tr>\n",
       "      <th>2</th>\n",
       "      <td>1728841</td>\n",
       "      <td>2013-09-23 15:18:57</td>\n",
       "      <td>We probably need to look into some options to ...</td>\n",
       "      <td>0.0</td>\n",
       "    </tr>\n",
       "    <tr>\n",
       "      <th>3</th>\n",
       "      <td>1727849</td>\n",
       "      <td>2013-08-12 17:35:10</td>\n",
       "      <td>Merged after review and testing. The tab compl...</td>\n",
       "      <td>1.0</td>\n",
       "    </tr>\n",
       "    <tr>\n",
       "      <th>4</th>\n",
       "      <td>1731943</td>\n",
       "      <td>2014-01-28 14:13:52</td>\n",
       "      <td>&gt; Also, looking at JobsController, those are n...</td>\n",
       "      <td>0.0</td>\n",
       "    </tr>\n",
       "    <tr>\n",
       "      <th>...</th>\n",
       "      <td>...</td>\n",
       "      <td>...</td>\n",
       "      <td>...</td>\n",
       "      <td>...</td>\n",
       "    </tr>\n",
       "    <tr>\n",
       "      <th>4417</th>\n",
       "      <td>1742283</td>\n",
       "      <td>2015-04-24 23:15:38</td>\n",
       "      <td>LGTM, rebased and merged into master 8a40e9d22...</td>\n",
       "      <td>1.0</td>\n",
       "    </tr>\n",
       "    <tr>\n",
       "      <th>4418</th>\n",
       "      <td>1740237</td>\n",
       "      <td>2015-01-14 15:21:06</td>\n",
       "      <td>LGTM Starting Acceptance Test Pass.\\n</td>\n",
       "      <td>1.0</td>\n",
       "    </tr>\n",
       "    <tr>\n",
       "      <th>4419</th>\n",
       "      <td>1726954</td>\n",
       "      <td>2013-07-23 17:52:57</td>\n",
       "      <td>I meant that your solution does modules-&gt;dirt....</td>\n",
       "      <td>0.0</td>\n",
       "    </tr>\n",
       "    <tr>\n",
       "      <th>4420</th>\n",
       "      <td>1736136</td>\n",
       "      <td>2014-06-23 18:10:57</td>\n",
       "      <td>Good catch. LGTM; merging.\\n</td>\n",
       "      <td>1.0</td>\n",
       "    </tr>\n",
       "    <tr>\n",
       "      <th>4421</th>\n",
       "      <td>1739913</td>\n",
       "      <td>2014-12-17 16:01:08</td>\n",
       "      <td>should really not need to mess with programmat...</td>\n",
       "      <td>0.0</td>\n",
       "    </tr>\n",
       "  </tbody>\n",
       "</table>\n",
       "<p>4422 rows × 4 columns</p>\n",
       "</div>"
      ],
      "text/plain": [
       "       msg_id       msg_timestamp  \\\n",
       "0     1732709 2014-03-10 21:20:54   \n",
       "1     1734278 2014-05-01 17:01:48   \n",
       "2     1728841 2013-09-23 15:18:57   \n",
       "3     1727849 2013-08-12 17:35:10   \n",
       "4     1731943 2014-01-28 14:13:52   \n",
       "...       ...                 ...   \n",
       "4417  1742283 2015-04-24 23:15:38   \n",
       "4418  1740237 2015-01-14 15:21:06   \n",
       "4419  1726954 2013-07-23 17:52:57   \n",
       "4420  1736136 2014-06-23 18:10:57   \n",
       "4421  1739913 2014-12-17 16:01:08   \n",
       "\n",
       "                                               msg_text  pred_senti  \n",
       "0     Hi Artem, can you take another pass over this ...         1.0  \n",
       "1     Found one thing I want to change before review...         0.0  \n",
       "2     We probably need to look into some options to ...         0.0  \n",
       "3     Merged after review and testing. The tab compl...         1.0  \n",
       "4     > Also, looking at JobsController, those are n...         0.0  \n",
       "...                                                 ...         ...  \n",
       "4417  LGTM, rebased and merged into master 8a40e9d22...         1.0  \n",
       "4418              LGTM Starting Acceptance Test Pass.\\n         1.0  \n",
       "4419  I meant that your solution does modules->dirt....         0.0  \n",
       "4420                       Good catch. LGTM; merging.\\n         1.0  \n",
       "4421  should really not need to mess with programmat...         0.0  \n",
       "\n",
       "[4422 rows x 4 columns]"
      ]
     },
     "execution_count": 7,
     "metadata": {},
     "output_type": "execute_result"
    }
   ],
   "source": [
    "df_message"
   ]
  },
  {
   "cell_type": "code",
   "execution_count": 8,
   "metadata": {},
   "outputs": [
    {
     "data": {
      "text/html": [
       "<div>\n",
       "<style scoped>\n",
       "    .dataframe tbody tr th:only-of-type {\n",
       "        vertical-align: middle;\n",
       "    }\n",
       "\n",
       "    .dataframe tbody tr th {\n",
       "        vertical-align: top;\n",
       "    }\n",
       "\n",
       "    .dataframe thead th {\n",
       "        text-align: right;\n",
       "    }\n",
       "</style>\n",
       "<table border=\"1\" class=\"dataframe\">\n",
       "  <thead>\n",
       "    <tr style=\"text-align: right;\">\n",
       "      <th></th>\n",
       "      <th>msg_id</th>\n",
       "      <th>msg_timestamp</th>\n",
       "      <th>msg_text</th>\n",
       "    </tr>\n",
       "    <tr>\n",
       "      <th>pred_senti</th>\n",
       "      <th></th>\n",
       "      <th></th>\n",
       "      <th></th>\n",
       "    </tr>\n",
       "  </thead>\n",
       "  <tbody>\n",
       "    <tr>\n",
       "      <th>-1.0</th>\n",
       "      <td>207</td>\n",
       "      <td>207</td>\n",
       "      <td>207</td>\n",
       "    </tr>\n",
       "    <tr>\n",
       "      <th>0.0</th>\n",
       "      <td>3274</td>\n",
       "      <td>3274</td>\n",
       "      <td>3274</td>\n",
       "    </tr>\n",
       "    <tr>\n",
       "      <th>1.0</th>\n",
       "      <td>941</td>\n",
       "      <td>941</td>\n",
       "      <td>941</td>\n",
       "    </tr>\n",
       "  </tbody>\n",
       "</table>\n",
       "</div>"
      ],
      "text/plain": [
       "            msg_id  msg_timestamp  msg_text\n",
       "pred_senti                                 \n",
       "-1.0           207            207       207\n",
       " 0.0          3274           3274      3274\n",
       " 1.0           941            941       941"
      ]
     },
     "execution_count": 8,
     "metadata": {},
     "output_type": "execute_result"
    }
   ],
   "source": [
    "df_message.groupby('pred_senti').count()"
   ]
  },
  {
   "cell_type": "code",
   "execution_count": 6,
   "metadata": {},
   "outputs": [
    {
     "name": "stdout",
     "output_type": "stream",
     "text": [
      "--- 1.3393032550811768 seconds ---\n"
     ]
    }
   ],
   "source": [
    "# Getting scores on custom test set\n",
    "df_test = pd.read_csv('mod_test.csv')\n",
    "get_senti_score(df_test,'Text')"
   ]
  },
  {
   "cell_type": "code",
   "execution_count": 10,
   "metadata": {},
   "outputs": [
    {
     "name": "stdout",
     "output_type": "stream",
     "text": [
      "Accuracy: 0.8908382066276803\n"
     ]
    }
   ],
   "source": [
    "# Results using GradientBoostingTree as classifier\n",
    "from sklearn.metrics import accuracy_score\n",
    "accuracy = accuracy_score(df_test['score'], df_test['pred_senti'])\n",
    "print('Accuracy: '+str(accuracy))"
   ]
  },
  {
   "cell_type": "code",
   "execution_count": 7,
   "metadata": {},
   "outputs": [
    {
     "name": "stdout",
     "output_type": "stream",
     "text": [
      "Accuracy: 0.8635477582846004\n"
     ]
    }
   ],
   "source": [
    "# Results using XGB as classifier\n",
    "from sklearn.metrics import accuracy_score\n",
    "accuracy = accuracy_score(df_test['score'], df_test['pred_senti'])\n",
    "print('Accuracy: '+str(accuracy))"
   ]
  }
 ],
 "metadata": {
  "kernelspec": {
   "display_name": "augur_env",
   "language": "python",
   "name": "augur_env"
  },
  "language_info": {
   "codemirror_mode": {
    "name": "ipython",
    "version": 3
   },
   "file_extension": ".py",
   "mimetype": "text/x-python",
   "name": "python",
   "nbconvert_exporter": "python",
   "pygments_lexer": "ipython3",
   "version": "3.7.3"
  }
 },
 "nbformat": 4,
 "nbformat_minor": 2
}
