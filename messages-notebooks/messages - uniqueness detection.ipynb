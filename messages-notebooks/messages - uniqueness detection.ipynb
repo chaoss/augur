{
 "cells": [
  {
   "cell_type": "markdown",
   "metadata": {},
   "source": [
    "### Detecting unique messages based on message reconstruction errors"
   ]
  },
  {
   "cell_type": "code",
   "execution_count": 271,
   "metadata": {},
   "outputs": [],
   "source": [
    "#!pip install bs4\n",
    "import pandas as pd\n",
    "import numpy as np\n",
    "import re\n",
    "from numpy import save, load\n",
    "import sqlalchemy as s\n",
    "import unicodedata\n",
    "import nltk\n",
    "import string\n",
    "from nltk.tokenize import word_tokenize \n",
    "from nltk.stem.snowball import SnowballStemmer\n",
    "from sqlalchemy import create_engine\n",
    "from bs4 import BeautifulSoup\n",
    "import matplotlib.pyplot as plt\n",
    "# nltk.download('all')\n"
   ]
  },
  {
   "cell_type": "code",
   "execution_count": 155,
   "metadata": {},
   "outputs": [],
   "source": [
    "repo_id = 25827\n",
    "\n",
    "# Fetch PR and issue messages of repo_id\n",
    "join_SQL = s.sql.text(\"\"\"\n",
    "       select message.msg_id, msg_timestamp,  msg_text from augur_data.message\n",
    "left outer join augur_data.pull_request_message_ref on message.msg_id = pull_request_message_ref.msg_id \n",
    "left outer join augur_data.pull_requests on pull_request_message_ref.pull_request_id = pull_requests.pull_request_id\n",
    "where repo_id = :repo_id\n",
    "UNION\n",
    "select message.msg_id, msg_timestamp, msg_text from augur_data.message\n",
    "left outer join augur_data.issue_message_ref on message.msg_id = issue_message_ref.msg_id \n",
    "left outer join augur_data.issues on issue_message_ref.issue_id = issues.issue_id\n",
    "where repo_id = :repo_id\"\"\")\n",
    "\n",
    "df_message = pd.read_sql_query(join_SQL, engine, params={'repo_id': repo_id})"
   ]
  },
  {
   "cell_type": "code",
   "execution_count": 156,
   "metadata": {},
   "outputs": [
    {
     "data": {
      "text/html": [
       "<div>\n",
       "<style scoped>\n",
       "    .dataframe tbody tr th:only-of-type {\n",
       "        vertical-align: middle;\n",
       "    }\n",
       "\n",
       "    .dataframe tbody tr th {\n",
       "        vertical-align: top;\n",
       "    }\n",
       "\n",
       "    .dataframe thead th {\n",
       "        text-align: right;\n",
       "    }\n",
       "</style>\n",
       "<table border=\"1\" class=\"dataframe\">\n",
       "  <thead>\n",
       "    <tr style=\"text-align: right;\">\n",
       "      <th></th>\n",
       "      <th>msg_id</th>\n",
       "      <th>msg_timestamp</th>\n",
       "      <th>msg_text</th>\n",
       "    </tr>\n",
       "  </thead>\n",
       "  <tbody>\n",
       "    <tr>\n",
       "      <th>0</th>\n",
       "      <td>1880837</td>\n",
       "      <td>2020-03-11 17:21:43</td>\n",
       "      <td>&gt; Isn't that the point of stabilising an IDE d...</td>\n",
       "    </tr>\n",
       "    <tr>\n",
       "      <th>1</th>\n",
       "      <td>2054646</td>\n",
       "      <td>2020-04-06 19:06:06</td>\n",
       "      <td>goodbye friend!</td>\n",
       "    </tr>\n",
       "    <tr>\n",
       "      <th>2</th>\n",
       "      <td>1883945</td>\n",
       "      <td>2020-02-28 18:46:02</td>\n",
       "      <td>&gt; No, at least not intentionally.\\r\\n\\r\\nCould...</td>\n",
       "    </tr>\n",
       "    <tr>\n",
       "      <th>3</th>\n",
       "      <td>1883956</td>\n",
       "      <td>2020-03-10 10:54:39</td>\n",
       "      <td>@mauromol Thanks a lot for trying the latest C...</td>\n",
       "    </tr>\n",
       "    <tr>\n",
       "      <th>4</th>\n",
       "      <td>1933586</td>\n",
       "      <td>2018-12-05 06:07:18</td>\n",
       "      <td>Doesn't seem to be necessary. Extension pack l...</td>\n",
       "    </tr>\n",
       "    <tr>\n",
       "      <th>...</th>\n",
       "      <td>...</td>\n",
       "      <td>...</td>\n",
       "      <td>...</td>\n",
       "    </tr>\n",
       "    <tr>\n",
       "      <th>1861</th>\n",
       "      <td>1859406</td>\n",
       "      <td>2020-02-25 11:00:08</td>\n",
       "      <td>Hey @sandorApati, hard to say remotely what ex...</td>\n",
       "    </tr>\n",
       "    <tr>\n",
       "      <th>1862</th>\n",
       "      <td>1933712</td>\n",
       "      <td>2018-10-09 15:25:58</td>\n",
       "      <td>&gt; I can confirm that the Spring-Data JPA Conte...</td>\n",
       "    </tr>\n",
       "    <tr>\n",
       "      <th>1863</th>\n",
       "      <td>1942947</td>\n",
       "      <td>2020-04-06 19:03:29</td>\n",
       "      <td>![image](https://user-images.githubusercontent...</td>\n",
       "    </tr>\n",
       "    <tr>\n",
       "      <th>1864</th>\n",
       "      <td>1922858</td>\n",
       "      <td>2020-04-01 16:27:00</td>\n",
       "      <td>Closing because of no response from @reszy wit...</td>\n",
       "    </tr>\n",
       "    <tr>\n",
       "      <th>1865</th>\n",
       "      <td>1887748</td>\n",
       "      <td>2020-03-09 16:25:37</td>\n",
       "      <td>It'd be great to look at this XML file... What...</td>\n",
       "    </tr>\n",
       "  </tbody>\n",
       "</table>\n",
       "<p>1866 rows × 3 columns</p>\n",
       "</div>"
      ],
      "text/plain": [
       "       msg_id       msg_timestamp  \\\n",
       "0     1880837 2020-03-11 17:21:43   \n",
       "1     2054646 2020-04-06 19:06:06   \n",
       "2     1883945 2020-02-28 18:46:02   \n",
       "3     1883956 2020-03-10 10:54:39   \n",
       "4     1933586 2018-12-05 06:07:18   \n",
       "...       ...                 ...   \n",
       "1861  1859406 2020-02-25 11:00:08   \n",
       "1862  1933712 2018-10-09 15:25:58   \n",
       "1863  1942947 2020-04-06 19:03:29   \n",
       "1864  1922858 2020-04-01 16:27:00   \n",
       "1865  1887748 2020-03-09 16:25:37   \n",
       "\n",
       "                                               msg_text  \n",
       "0     > Isn't that the point of stabilising an IDE d...  \n",
       "1                                       goodbye friend!  \n",
       "2     > No, at least not intentionally.\\r\\n\\r\\nCould...  \n",
       "3     @mauromol Thanks a lot for trying the latest C...  \n",
       "4     Doesn't seem to be necessary. Extension pack l...  \n",
       "...                                                 ...  \n",
       "1861  Hey @sandorApati, hard to say remotely what ex...  \n",
       "1862  > I can confirm that the Spring-Data JPA Conte...  \n",
       "1863  ![image](https://user-images.githubusercontent...  \n",
       "1864  Closing because of no response from @reszy wit...  \n",
       "1865  It'd be great to look at this XML file... What...  \n",
       "\n",
       "[1866 rows x 3 columns]"
      ]
     },
     "execution_count": 156,
     "metadata": {},
     "output_type": "execute_result"
    }
   ],
   "source": [
    "df_message"
   ]
  },
  {
   "cell_type": "code",
   "execution_count": 157,
   "metadata": {},
   "outputs": [],
   "source": [
    "CONTRACTION_MAP = {\n",
    "\"ain't\": \"is not\",\n",
    "\"aren't\": \"are not\",\n",
    "\"can't\": \"cannot\",\n",
    "\"can't've\": \"cannot have\",\n",
    "\"'cause\": \"because\",\n",
    "\"could've\": \"could have\",\n",
    "\"couldn't\": \"could not\",\n",
    "\"couldn't've\": \"could not have\",\n",
    "\"didn't\": \"did not\",\n",
    "\"doesn't\": \"does not\",\n",
    "\"don't\": \"do not\",\n",
    "\"hadn't\": \"had not\",\n",
    "\"hadn't've\": \"had not have\",\n",
    "\"hasn't\": \"has not\",\n",
    "\"haven't\": \"have not\",\n",
    "\"he'd\": \"he would\",\n",
    "\"he'd've\": \"he would have\",\n",
    "\"he'll\": \"he will\",\n",
    "\"he'll've\": \"he he will have\",\n",
    "\"he's\": \"he is\",\n",
    "\"how'd\": \"how did\",\n",
    "\"how'd'y\": \"how do you\",\n",
    "\"how'll\": \"how will\",\n",
    "\"how's\": \"how is\",\n",
    "\"I'd\": \"I would\",\n",
    "\"I'd've\": \"I would have\",\n",
    "\"I'll\": \"I will\",\n",
    "\"I'll've\": \"I will have\",\n",
    "\"I'm\": \"I am\",\n",
    "\"I've\": \"I have\",\n",
    "\"i'd\": \"i would\",\n",
    "\"i'd've\": \"i would have\",\n",
    "\"i'll\": \"i will\",\n",
    "\"i'll've\": \"i will have\",\n",
    "\"i'm\": \"i am\",\n",
    "\"i've\": \"i have\",\n",
    "\"isn't\": \"is not\",\n",
    "\"it'd\": \"it would\",\n",
    "\"it'd've\": \"it would have\",\n",
    "\"it'll\": \"it will\",\n",
    "\"it'll've\": \"it will have\",\n",
    "\"it's\": \"it is\",\n",
    "\"let's\": \"let us\",\n",
    "\"ma'am\": \"madam\",\n",
    "\"mayn't\": \"may not\",\n",
    "\"might've\": \"might have\",\n",
    "\"mightn't\": \"might not\",\n",
    "\"mightn't've\": \"might not have\",\n",
    "\"must've\": \"must have\",\n",
    "\"mustn't\": \"must not\",\n",
    "\"mustn't've\": \"must not have\",\n",
    "\"needn't\": \"need not\",\n",
    "\"needn't've\": \"need not have\",\n",
    "\"o'clock\": \"of the clock\",\n",
    "\"oughtn't\": \"ought not\",\n",
    "\"oughtn't've\": \"ought not have\",\n",
    "\"shan't\": \"shall not\",\n",
    "\"sha'n't\": \"shall not\",\n",
    "\"shan't've\": \"shall not have\",\n",
    "\"she'd\": \"she would\",\n",
    "\"she'd've\": \"she would have\",\n",
    "\"she'll\": \"she will\",\n",
    "\"she'll've\": \"she will have\",\n",
    "\"she's\": \"she is\",\n",
    "\"should've\": \"should have\",\n",
    "\"shouldn't\": \"should not\",\n",
    "\"shouldn't've\": \"should not have\",\n",
    "\"so've\": \"so have\",\n",
    "\"so's\": \"so as\",\n",
    "\"that'd\": \"that would\",\n",
    "\"that'd've\": \"that would have\",\n",
    "\"that's\": \"that is\",\n",
    "\"there'd\": \"there would\",\n",
    "\"there'd've\": \"there would have\",\n",
    "\"there's\": \"there is\",\n",
    "\"they'd\": \"they would\",\n",
    "\"they'd've\": \"they would have\",\n",
    "\"they'll\": \"they will\",\n",
    "\"they'll've\": \"they will have\",\n",
    "\"they're\": \"they are\",\n",
    "\"they've\": \"they have\",\n",
    "\"to've\": \"to have\",\n",
    "\"wasn't\": \"was not\",\n",
    "\"we'd\": \"we would\",\n",
    "\"we'd've\": \"we would have\",\n",
    "\"we'll\": \"we will\",\n",
    "\"we'll've\": \"we will have\",\n",
    "\"we're\": \"we are\",\n",
    "\"we've\": \"we have\",\n",
    "\"weren't\": \"were not\",\n",
    "\"what'll\": \"what will\",\n",
    "\"what'll've\": \"what will have\",\n",
    "\"what're\": \"what are\",\n",
    "\"what's\": \"what is\",\n",
    "\"what've\": \"what have\",\n",
    "\"when's\": \"when is\",\n",
    "\"when've\": \"when have\",\n",
    "\"where'd\": \"where did\",\n",
    "\"where's\": \"where is\",\n",
    "\"where've\": \"where have\",\n",
    "\"who'll\": \"who will\",\n",
    "\"who'll've\": \"who will have\",\n",
    "\"who's\": \"who is\",\n",
    "\"who've\": \"who have\",\n",
    "\"why's\": \"why is\",\n",
    "\"why've\": \"why have\",\n",
    "\"will've\": \"will have\",\n",
    "\"won't\": \"will not\",\n",
    "\"won't've\": \"will not have\",\n",
    "\"would've\": \"would have\",\n",
    "\"wouldn't\": \"would not\",\n",
    "\"wouldn't've\": \"would not have\",\n",
    "\"y'all\": \"you all\",\n",
    "\"y'all'd\": \"you all would\",\n",
    "\"y'all'd've\": \"you all would have\",\n",
    "\"y'all're\": \"you all are\",\n",
    "\"y'all've\": \"you all have\",\n",
    "\"you'd\": \"you would\",\n",
    "\"you'd've\": \"you would have\",\n",
    "\"you'll\": \"you will\",\n",
    "\"you'll've\": \"you will have\",\n",
    "\"you're\": \"you are\",\n",
    "\"you've\": \"you have\"\n",
    "}"
   ]
  },
  {
   "cell_type": "code",
   "execution_count": 275,
   "metadata": {},
   "outputs": [],
   "source": [
    "## Preprocessing text\n",
    "\n",
    "import nltk\n",
    "import string\n",
    "from nltk.tokenize import word_tokenize\n",
    "\n",
    "punc=list(string.punctuation)\n",
    "# Retaining to identify personal mentions, sentiment\n",
    "punc.remove('!')\n",
    "punc.remove('?')\n",
    "\n",
    "stopword = nltk.corpus.stopwords.words('english')\n",
    "snowBallStemmer = SnowballStemmer(\"english\")\n",
    "\n",
    "# Expanding contractions\n",
    "def expand_contractions(text, contraction_mapping=CONTRACTION_MAP):\n",
    "    contractions_pattern = re.compile('({})'.format('|'.join(contraction_mapping.keys())), \n",
    "                                      flags=re.IGNORECASE|re.DOTALL)\n",
    "    def expand_match(contraction):\n",
    "        match = contraction.group(0)\n",
    "        first_char = match[0]\n",
    "        expanded_contraction = contraction_mapping.get(match)\\\n",
    "                                if contraction_mapping.get(match)\\\n",
    "                                else contraction_mapping.get(match.lower())                       \n",
    "        expanded_contraction = first_char+expanded_contraction[1:]\n",
    "        return expanded_contraction\n",
    "        \n",
    "    expanded_text = contractions_pattern.sub(expand_match, text)\n",
    "    expanded_text = re.sub(\"'\", \"\", expanded_text)\n",
    "    return expanded_text\n",
    "\n",
    "# Removing stop words, punctuations, spaces, stemming...\n",
    "def clean_text(text, remove_emojis):\n",
    "    soup = BeautifulSoup(text)\n",
    "    for tag in soup.find_all('strong'):\n",
    "        tag.replaceWith('')\n",
    "        text = soup.get_text()\n",
    "\n",
    "    text = re.sub('\\n', ' ', text)\n",
    "    text = re.sub('\\r', ' ', text)\n",
    "    text = re.sub('[()){}]', ' ', text)\n",
    "    text = re.sub('\\<[^<>]*\\>', '', text)\n",
    "    text = re.sub('\\`[^``]*\\`', '', text)\n",
    "    \n",
    "    # emojis, ?, !, no/not are retained for sentiment analysis else removed\n",
    "    if remove_emojis:\n",
    "        text = unicodedata.normalize('NFKD', text).encode('ascii', 'ignore').decode('utf-8', 'ignore')\n",
    "        punc.extend(['!','?'])\n",
    "        stopword.extend(['no','not'])\n",
    "    # Removes personal mentions like @abc, and email addresses\n",
    "    s = re.sub(r'\\w*@\\w*', ' ', text)   \n",
    "\n",
    "    # Removes attached links\n",
    "    s=' '.join(word for word in s.split(' ') if not word.startswith('http'))   \n",
    "\n",
    "    # Separates joint words\n",
    "    # Removes punctuation\n",
    "    s = re.sub('[\\.\\-\\_\\\\/&]', ' ', s)\n",
    "    s = \"\".join([word.lower() for word in s if word not in punc])\n",
    "    s = word_tokenize(s)\n",
    "\n",
    "    # Stemming\n",
    "    s = \" \".join([snowBallStemmer.stem(word) for word in s if len(word)<=30])              \n",
    "\n",
    "    # Tokenization\n",
    "    s = re.sub('[0-9]+', '', s)\n",
    "    s = re.sub('lgtm', 'look good', s)\n",
    "    return s\n",
    "\n",
    "# Normalize corpus\n",
    "def normalize_corpus(text,contraction_expansion=True,clean=True,remove_emojis=True):\n",
    "    if contraction_expansion:\n",
    "        text = expand_contractions(text)\n",
    "    if clean:\n",
    "        text = clean_text(text,remove_emojis)\n",
    "    return text"
   ]
  },
  {
   "cell_type": "code",
   "execution_count": 276,
   "metadata": {},
   "outputs": [],
   "source": [
    "df_message['cleaned_msg_text'] = df_message['msg_text'].map(lambda x: normalize_corpus(x))"
   ]
  },
  {
   "cell_type": "code",
   "execution_count": 186,
   "metadata": {},
   "outputs": [
    {
     "data": {
      "text/html": [
       "<div>\n",
       "<style scoped>\n",
       "    .dataframe tbody tr th:only-of-type {\n",
       "        vertical-align: middle;\n",
       "    }\n",
       "\n",
       "    .dataframe tbody tr th {\n",
       "        vertical-align: top;\n",
       "    }\n",
       "\n",
       "    .dataframe thead th {\n",
       "        text-align: right;\n",
       "    }\n",
       "</style>\n",
       "<table border=\"1\" class=\"dataframe\">\n",
       "  <thead>\n",
       "    <tr style=\"text-align: right;\">\n",
       "      <th></th>\n",
       "      <th>msg_id</th>\n",
       "      <th>msg_timestamp</th>\n",
       "      <th>msg_text</th>\n",
       "      <th>cleaned_msg_text</th>\n",
       "    </tr>\n",
       "  </thead>\n",
       "  <tbody>\n",
       "    <tr>\n",
       "      <th>0</th>\n",
       "      <td>1880837</td>\n",
       "      <td>2020-03-11 17:21:43</td>\n",
       "      <td>&gt; Isn't that the point of stabilising an IDE d...</td>\n",
       "      <td>is not that the point of stabilis an ide despi...</td>\n",
       "    </tr>\n",
       "    <tr>\n",
       "      <th>1</th>\n",
       "      <td>2054646</td>\n",
       "      <td>2020-04-06 19:06:06</td>\n",
       "      <td>goodbye friend!</td>\n",
       "      <td>goodby friend</td>\n",
       "    </tr>\n",
       "    <tr>\n",
       "      <th>2</th>\n",
       "      <td>1883945</td>\n",
       "      <td>2020-02-28 18:46:02</td>\n",
       "      <td>&gt; No, at least not intentionally.\\r\\n\\r\\nCould...</td>\n",
       "      <td>no at least not intent could be that more of t...</td>\n",
       "    </tr>\n",
       "    <tr>\n",
       "      <th>3</th>\n",
       "      <td>1883956</td>\n",
       "      <td>2020-03-10 10:54:39</td>\n",
       "      <td>@mauromol Thanks a lot for trying the latest C...</td>\n",
       "      <td>thank a lot for tri the latest ci build and at...</td>\n",
       "    </tr>\n",
       "    <tr>\n",
       "      <th>4</th>\n",
       "      <td>1933586</td>\n",
       "      <td>2018-12-05 06:07:18</td>\n",
       "      <td>Doesn't seem to be necessary. Extension pack l...</td>\n",
       "      <td>doe not seem to be necessari extens pack list ...</td>\n",
       "    </tr>\n",
       "    <tr>\n",
       "      <th>...</th>\n",
       "      <td>...</td>\n",
       "      <td>...</td>\n",
       "      <td>...</td>\n",
       "      <td>...</td>\n",
       "    </tr>\n",
       "    <tr>\n",
       "      <th>1861</th>\n",
       "      <td>1859406</td>\n",
       "      <td>2020-02-25 11:00:08</td>\n",
       "      <td>Hey @sandorApati, hard to say remotely what ex...</td>\n",
       "      <td>hey hard to say remot what exact is go wrong h...</td>\n",
       "    </tr>\n",
       "    <tr>\n",
       "      <th>1862</th>\n",
       "      <td>1933712</td>\n",
       "      <td>2018-10-09 15:25:58</td>\n",
       "      <td>&gt; I can confirm that the Spring-Data JPA Conte...</td>\n",
       "      <td>i can confirm that the spring data jpa content...</td>\n",
       "    </tr>\n",
       "    <tr>\n",
       "      <th>1863</th>\n",
       "      <td>1942947</td>\n",
       "      <td>2020-04-06 19:03:29</td>\n",
       "      <td>![image](https://user-images.githubusercontent...</td>\n",
       "      <td>imag what do you mean not understand</td>\n",
       "    </tr>\n",
       "    <tr>\n",
       "      <th>1864</th>\n",
       "      <td>1922858</td>\n",
       "      <td>2020-04-01 16:27:00</td>\n",
       "      <td>Closing because of no response from @reszy wit...</td>\n",
       "      <td>close becaus of no respons from with more info...</td>\n",
       "    </tr>\n",
       "    <tr>\n",
       "      <th>1865</th>\n",
       "      <td>1887748</td>\n",
       "      <td>2020-03-09 16:25:37</td>\n",
       "      <td>It'd be great to look at this XML file... What...</td>\n",
       "      <td>it would be great to look at this xml file wha...</td>\n",
       "    </tr>\n",
       "  </tbody>\n",
       "</table>\n",
       "<p>1866 rows × 4 columns</p>\n",
       "</div>"
      ],
      "text/plain": [
       "       msg_id       msg_timestamp  \\\n",
       "0     1880837 2020-03-11 17:21:43   \n",
       "1     2054646 2020-04-06 19:06:06   \n",
       "2     1883945 2020-02-28 18:46:02   \n",
       "3     1883956 2020-03-10 10:54:39   \n",
       "4     1933586 2018-12-05 06:07:18   \n",
       "...       ...                 ...   \n",
       "1861  1859406 2020-02-25 11:00:08   \n",
       "1862  1933712 2018-10-09 15:25:58   \n",
       "1863  1942947 2020-04-06 19:03:29   \n",
       "1864  1922858 2020-04-01 16:27:00   \n",
       "1865  1887748 2020-03-09 16:25:37   \n",
       "\n",
       "                                               msg_text  \\\n",
       "0     > Isn't that the point of stabilising an IDE d...   \n",
       "1                                       goodbye friend!   \n",
       "2     > No, at least not intentionally.\\r\\n\\r\\nCould...   \n",
       "3     @mauromol Thanks a lot for trying the latest C...   \n",
       "4     Doesn't seem to be necessary. Extension pack l...   \n",
       "...                                                 ...   \n",
       "1861  Hey @sandorApati, hard to say remotely what ex...   \n",
       "1862  > I can confirm that the Spring-Data JPA Conte...   \n",
       "1863  ![image](https://user-images.githubusercontent...   \n",
       "1864  Closing because of no response from @reszy wit...   \n",
       "1865  It'd be great to look at this XML file... What...   \n",
       "\n",
       "                                       cleaned_msg_text  \n",
       "0     is not that the point of stabilis an ide despi...  \n",
       "1                                         goodby friend  \n",
       "2     no at least not intent could be that more of t...  \n",
       "3     thank a lot for tri the latest ci build and at...  \n",
       "4     doe not seem to be necessari extens pack list ...  \n",
       "...                                                 ...  \n",
       "1861  hey hard to say remot what exact is go wrong h...  \n",
       "1862  i can confirm that the spring data jpa content...  \n",
       "1863               imag what do you mean not understand  \n",
       "1864  close becaus of no respons from with more info...  \n",
       "1865  it would be great to look at this xml file wha...  \n",
       "\n",
       "[1866 rows x 4 columns]"
      ]
     },
     "execution_count": 186,
     "metadata": {},
     "output_type": "execute_result"
    }
   ],
   "source": [
    "df_message"
   ]
  },
  {
   "cell_type": "code",
   "execution_count": 187,
   "metadata": {},
   "outputs": [],
   "source": [
    "df_message['msg_timestamp'] = [d.date() for d in df_message['msg_timestamp']]\n",
    "df_message = df_message.sort_values(by='msg_timestamp')"
   ]
  },
  {
   "cell_type": "code",
   "execution_count": 198,
   "metadata": {},
   "outputs": [],
   "source": [
    "df_past = df_message[df_message['msg_timestamp'].astype(str)< '2020-04-01']\n",
    "df_present = df_message[df_message['msg_timestamp'].astype(str)>= '2020-04-01']"
   ]
  },
  {
   "cell_type": "markdown",
   "metadata": {},
   "source": [
    "#### Making word embeddings using Doc2Vec"
   ]
  },
  {
   "cell_type": "code",
   "execution_count": 202,
   "metadata": {},
   "outputs": [],
   "source": [
    "# Transformer which converts text corpus into document vectors.\n",
    "\n",
    "from gensim.models.doc2vec import TaggedDocument, Doc2Vec\n",
    "from gensim.parsing.preprocessing import preprocess_string\n",
    "from sklearn.base import BaseEstimator\n",
    "from sklearn import utils as skl_utils\n",
    "from tqdm import tqdm\n",
    "\n",
    "import multiprocessing\n",
    "import numpy as np\n",
    "\n",
    "class Doc2VecTransformer(BaseEstimator):\n",
    "\n",
    "    def __init__(self, vector_size=300, learning_rate=0.01, epochs=50):\n",
    "        self.learning_rate = learning_rate\n",
    "        self.epochs = epochs\n",
    "        self._model = None\n",
    "        self.vector_size = vector_size\n",
    "        self.workers = multiprocessing.cpu_count() - 1\n",
    "\n",
    "    def fit(self, df_x, df_y=None):\n",
    "        tagged_x = [TaggedDocument(str(row['cleaned_msg_text']).split(), [index]) for index, row in df_x.iterrows()]\n",
    "        model = Doc2Vec(documents=tagged_x, vector_size=self.vector_size, workers=self.workers)\n",
    "       \n",
    "        for epoch in range(self.epochs):\n",
    "            model.train(skl_utils.shuffle([x for x in tqdm(tagged_x)]), total_examples=len(tagged_x), epochs=1)\n",
    "            model.alpha -= self.learning_rate\n",
    "            model.min_alpha = model.alpha\n",
    "\n",
    "        self._model = model\n",
    "        return self\n",
    "\n",
    "    def transform(self, df_x):\n",
    "        return np.asmatrix(np.array([self._model.infer_vector(str(row['cleaned_msg_text']).split())for index, row in df_x.iterrows()]))\n",
    "    \n"
   ]
  },
  {
   "cell_type": "code",
   "execution_count": 203,
   "metadata": {},
   "outputs": [
    {
     "name": "stderr",
     "output_type": "stream",
     "text": [
      "100%|██████████| 1300/1300 [00:00<00:00, 3618178.63it/s]\n",
      "100%|██████████| 1300/1300 [00:00<00:00, 3351318.50it/s]\n",
      "100%|██████████| 1300/1300 [00:00<00:00, 3826382.60it/s]\n",
      "100%|██████████| 1300/1300 [00:00<00:00, 2246639.97it/s]\n",
      "100%|██████████| 1300/1300 [00:00<00:00, 1935603.55it/s]\n",
      "100%|██████████| 1300/1300 [00:00<00:00, 3336961.57it/s]\n",
      "100%|██████████| 1300/1300 [00:00<00:00, 2472832.29it/s]\n",
      "100%|██████████| 1300/1300 [00:00<00:00, 2739997.59it/s]\n",
      "100%|██████████| 1300/1300 [00:00<00:00, 3091040.36it/s]\n",
      "100%|██████████| 1300/1300 [00:00<00:00, 3582519.84it/s]\n",
      "100%|██████████| 1300/1300 [00:00<00:00, 1184059.76it/s]\n",
      "100%|██████████| 1300/1300 [00:00<00:00, 3290642.85it/s]\n",
      "100%|██████████| 1300/1300 [00:00<00:00, 2368633.88it/s]\n",
      "100%|██████████| 1300/1300 [00:00<00:00, 3625395.74it/s]\n",
      "100%|██████████| 1300/1300 [00:00<00:00, 2534911.76it/s]\n",
      "100%|██████████| 1300/1300 [00:00<00:00, 3880850.68it/s]\n",
      "100%|██████████| 1300/1300 [00:00<00:00, 3103355.26it/s]\n",
      "100%|██████████| 1300/1300 [00:00<00:00, 2374823.69it/s]\n",
      "100%|██████████| 1300/1300 [00:00<00:00, 3343099.45it/s]\n",
      "100%|██████████| 1300/1300 [00:00<00:00, 2934658.34it/s]\n",
      "100%|██████████| 1300/1300 [00:00<00:00, 2735873.16it/s]\n",
      "100%|██████████| 1300/1300 [00:00<00:00, 2513875.15it/s]\n",
      "100%|██████████| 1300/1300 [00:00<00:00, 3823699.30it/s]\n",
      "100%|██████████| 1300/1300 [00:00<00:00, 3037657.49it/s]\n",
      "100%|██████████| 1300/1300 [00:00<00:00, 3856149.36it/s]\n",
      "100%|██████████| 1300/1300 [00:00<00:00, 2784777.94it/s]\n",
      "100%|██████████| 1300/1300 [00:00<00:00, 3446646.78it/s]\n",
      "100%|██████████| 1300/1300 [00:00<00:00, 1563244.04it/s]\n",
      "100%|██████████| 1300/1300 [00:00<00:00, 2508093.47it/s]\n",
      "100%|██████████| 1300/1300 [00:00<00:00, 2904952.16it/s]\n",
      "100%|██████████| 1300/1300 [00:00<00:00, 2877358.94it/s]\n",
      "100%|██████████| 1300/1300 [00:00<00:00, 3524625.21it/s]\n",
      "100%|██████████| 1300/1300 [00:00<00:00, 2206635.05it/s]\n",
      "100%|██████████| 1300/1300 [00:00<00:00, 3211186.81it/s]\n",
      "100%|██████████| 1300/1300 [00:00<00:00, 3378311.77it/s]\n",
      "100%|██████████| 1300/1300 [00:00<00:00, 1677205.54it/s]\n",
      "100%|██████████| 1300/1300 [00:00<00:00, 3380406.20it/s]\n",
      "100%|██████████| 1300/1300 [00:00<00:00, 3096306.19it/s]\n",
      "100%|██████████| 1300/1300 [00:00<00:00, 733467.20it/s]\n",
      "100%|██████████| 1300/1300 [00:00<00:00, 2755227.49it/s]\n",
      "100%|██████████| 1300/1300 [00:00<00:00, 3401494.20it/s]\n",
      "100%|██████████| 1300/1300 [00:00<00:00, 3149968.34it/s]\n",
      "100%|██████████| 1300/1300 [00:00<00:00, 3556813.57it/s]\n",
      "100%|██████████| 1300/1300 [00:00<00:00, 2273809.51it/s]\n",
      "100%|██████████| 1300/1300 [00:00<00:00, 3858878.41it/s]\n",
      "100%|██████████| 1300/1300 [00:00<00:00, 2057583.09it/s]\n",
      "100%|██████████| 1300/1300 [00:00<00:00, 1306323.72it/s]\n",
      "100%|██████████| 1300/1300 [00:00<00:00, 3928382.71it/s]\n",
      "100%|██████████| 1300/1300 [00:00<00:00, 2291969.40it/s]\n",
      "100%|██████████| 1300/1300 [00:00<00:00, 3268941.97it/s]\n"
     ]
    }
   ],
   "source": [
    "# Fitting the data\n",
    "\n",
    "doc2vec_tr = Doc2VecTransformer(vector_size=300)\n",
    "df1 = pd.DataFrame(df_past['cleaned_msg_text'])\n",
    "doc2vec_tr.fit(df1)\n",
    "doc2vec_vectors = doc2vec_tr.transform(df1)\n"
   ]
  },
  {
   "cell_type": "code",
   "execution_count": 204,
   "metadata": {},
   "outputs": [
    {
     "name": "stderr",
     "output_type": "stream",
     "text": [
      "100%|██████████| 566/566 [00:00<00:00, 1922247.83it/s]\n",
      "100%|██████████| 566/566 [00:00<00:00, 3051383.12it/s]\n",
      "100%|██████████| 566/566 [00:00<00:00, 1710357.39it/s]\n",
      "100%|██████████| 566/566 [00:00<00:00, 1712825.44it/s]\n",
      "100%|██████████| 566/566 [00:00<00:00, 1988254.66it/s]\n",
      "100%|██████████| 566/566 [00:00<00:00, 2115843.19it/s]\n",
      "100%|██████████| 566/566 [00:00<00:00, 1360444.74it/s]\n",
      "100%|██████████| 566/566 [00:00<00:00, 2488444.51it/s]\n",
      "100%|██████████| 566/566 [00:00<00:00, 1578441.53it/s]\n",
      "100%|██████████| 566/566 [00:00<00:00, 1672992.29it/s]\n",
      "100%|██████████| 566/566 [00:00<00:00, 2697700.07it/s]\n",
      "100%|██████████| 566/566 [00:00<00:00, 1979963.36it/s]\n",
      "100%|██████████| 566/566 [00:00<00:00, 419134.19it/s]\n",
      "100%|██████████| 566/566 [00:00<00:00, 840048.15it/s]\n",
      "100%|██████████| 566/566 [00:00<00:00, 1004644.97it/s]\n",
      "100%|██████████| 566/566 [00:00<00:00, 871503.69it/s]\n",
      "100%|██████████| 566/566 [00:00<00:00, 1066955.53it/s]\n",
      "100%|██████████| 566/566 [00:00<00:00, 1566980.90it/s]\n",
      "100%|██████████| 566/566 [00:00<00:00, 2008439.99it/s]\n",
      "100%|██████████| 566/566 [00:00<00:00, 1688460.93it/s]\n",
      "100%|██████████| 566/566 [00:00<00:00, 2029039.37it/s]\n",
      "100%|██████████| 566/566 [00:00<00:00, 2121515.70it/s]\n",
      "100%|██████████| 566/566 [00:00<00:00, 648273.09it/s]\n",
      "100%|██████████| 566/566 [00:00<00:00, 501685.56it/s]\n",
      "100%|██████████| 566/566 [00:00<00:00, 1115066.26it/s]\n",
      "100%|██████████| 566/566 [00:00<00:00, 1637224.87it/s]\n",
      "100%|██████████| 566/566 [00:00<00:00, 1217423.62it/s]\n",
      "100%|██████████| 566/566 [00:00<00:00, 1806678.89it/s]\n",
      "100%|██████████| 566/566 [00:00<00:00, 1721519.99it/s]\n",
      "100%|██████████| 566/566 [00:00<00:00, 1514981.53it/s]\n",
      "100%|██████████| 566/566 [00:00<00:00, 1700555.92it/s]\n",
      "100%|██████████| 566/566 [00:00<00:00, 1479112.81it/s]\n",
      "100%|██████████| 566/566 [00:00<00:00, 1589006.74it/s]\n",
      "100%|██████████| 566/566 [00:00<00:00, 1257402.58it/s]\n",
      "100%|██████████| 566/566 [00:00<00:00, 725764.62it/s]\n",
      "100%|██████████| 566/566 [00:00<00:00, 899574.11it/s]\n",
      "100%|██████████| 566/566 [00:00<00:00, 897194.28it/s]\n",
      "100%|██████████| 566/566 [00:00<00:00, 1188176.21it/s]\n",
      "100%|██████████| 566/566 [00:00<00:00, 1244222.26it/s]\n",
      "100%|██████████| 566/566 [00:00<00:00, 1287405.67it/s]\n",
      "100%|██████████| 566/566 [00:00<00:00, 759915.51it/s]\n",
      "100%|██████████| 566/566 [00:00<00:00, 1228766.08it/s]\n",
      "100%|██████████| 566/566 [00:00<00:00, 689708.33it/s]\n",
      "100%|██████████| 566/566 [00:00<00:00, 831515.26it/s]\n",
      "100%|██████████| 566/566 [00:00<00:00, 917301.42it/s]\n",
      "100%|██████████| 566/566 [00:00<00:00, 385135.64it/s]\n",
      "100%|██████████| 566/566 [00:00<00:00, 763336.35it/s]\n",
      "100%|██████████| 566/566 [00:00<00:00, 673277.39it/s]\n",
      "100%|██████████| 566/566 [00:00<00:00, 1010202.58it/s]\n",
      "100%|██████████| 566/566 [00:00<00:00, 1001255.19it/s]\n"
     ]
    }
   ],
   "source": [
    "# Fitting the data\n",
    "\n",
    "doc2vec_tr = Doc2VecTransformer(vector_size=300)\n",
    "df1 = pd.DataFrame(df_present['cleaned_msg_text'])\n",
    "doc2vec_tr.fit(df1)\n",
    "doc2vec_vectors_test = doc2vec_tr.transform(df1)"
   ]
  },
  {
   "cell_type": "markdown",
   "metadata": {},
   "source": [
    "#### Using auto-encoders"
   ]
  },
  {
   "cell_type": "code",
   "execution_count": 205,
   "metadata": {},
   "outputs": [
    {
     "data": {
      "text/plain": [
       "MLPRegressor(activation='relu', alpha=0.0001, batch_size='auto', beta_1=0.9,\n",
       "             beta_2=0.999, early_stopping=False, epsilon=1e-08,\n",
       "             hidden_layer_sizes=(600, 100, 600), learning_rate='constant',\n",
       "             learning_rate_init=0.001, max_fun=15000, max_iter=200,\n",
       "             momentum=0.9, n_iter_no_change=10, nesterovs_momentum=True,\n",
       "             power_t=0.5, random_state=None, shuffle=True, solver='adam',\n",
       "             tol=0.0001, validation_fraction=0.1, verbose=False,\n",
       "             warm_start=False)"
      ]
     },
     "execution_count": 205,
     "metadata": {},
     "output_type": "execute_result"
    }
   ],
   "source": [
    "from sklearn.neural_network import MLPRegressor\n",
    "# 600,150,600\n",
    "auto_encoder = MLPRegressor(hidden_layer_sizes=(600,100,600))\n",
    "auto_encoder.fit(doc2vec_vectors, doc2vec_vectors)"
   ]
  },
  {
   "cell_type": "code",
   "execution_count": 206,
   "metadata": {},
   "outputs": [],
   "source": [
    "predicted_vectors = auto_encoder.predict(doc2vec_vectors)"
   ]
  },
  {
   "cell_type": "code",
   "execution_count": 207,
   "metadata": {},
   "outputs": [
    {
     "data": {
      "text/plain": [
       "<matplotlib.axes._subplots.AxesSubplot at 0x7fbfacc5cf60>"
      ]
     },
     "execution_count": 207,
     "metadata": {},
     "output_type": "execute_result"
    },
    {
     "data": {
      "image/png": "[encoded data removed]",
      "text/plain": [
       "<Figure size 432x288 with 1 Axes>"
      ]
     },
     "metadata": {
      "needs_background": "light"
     },
     "output_type": "display_data"
    }
   ],
   "source": [
    "# Plotting the loss function\n",
    "pd.DataFrame(auto_encoder.loss_curve_).plot()"
   ]
  },
  {
   "cell_type": "code",
   "execution_count": 208,
   "metadata": {},
   "outputs": [
    {
     "data": {
      "text/plain": [
       "['25827_uniq.pkl']"
      ]
     },
     "execution_count": 208,
     "metadata": {},
     "output_type": "execute_result"
    }
   ],
   "source": [
    "from sklearn.externals import joblib\n",
    "\n",
    "# Save to file in the current working directory\n",
    "joblib_file = \"{r_id}_uniq.pkl\".format(r_id = repo_id)\n",
    "joblib.dump(auto_encoder, joblib_file)"
   ]
  },
  {
   "cell_type": "code",
   "execution_count": 209,
   "metadata": {},
   "outputs": [],
   "source": [
    "# Load from file\n",
    "model = joblib.load(joblib_file)\n",
    "\n",
    "# Calculate the accuracy and predictions\n",
    "predicted_vectors_test = model.predict(doc2vec_vectors_test)"
   ]
  },
  {
   "cell_type": "code",
   "execution_count": 258,
   "metadata": {},
   "outputs": [],
   "source": [
    "# Determining the cosine similarity between predicted and Doc2Vec vectors, to get reconstruction errors\n",
    "\n",
    "from scipy.spatial.distance import cosine\n",
    "\n",
    "def key_cosine_similarity(tupple):\n",
    "    return tupple[1]\n",
    "\n",
    "def get_computed_similarities(vectors, predicted_vectors, reverse=False):\n",
    "    data_size = len(df_present)\n",
    "    cosine_similarities = []\n",
    "    for i in range(data_size):\n",
    "        cosine_sim_val = (1 - cosine(vectors[i], predicted_vectors[i]))\n",
    "        cosine_similarities.append((df_present['msg_id'].iloc[i], cosine_sim_val))\n",
    "\n",
    "    return sorted(cosine_similarities, key=key_cosine_similarity, reverse=reverse)\n",
    "\n",
    "def display_unique(sorted_cosine_similarities):\n",
    "    i=0\n",
    "    unique_message_list=[]\n",
    "    cos_val = []\n",
    "    index, cosine_sim_val = sorted_cosine_similarities[0]\n",
    "    while cosine_sim_val<=-0.1:\n",
    "        if cosine_sim_val not in cos_val:\n",
    "            unique_message_list.append(index)\n",
    "            cos_val.append(cosine_sim_val)\n",
    "            print('Message id: ', index)  \n",
    "            print('Cosine Sim Val :', cosine_sim_val)\n",
    "        i+=1    \n",
    "        index, cosine_sim_val = sorted_cosine_similarities[i]\n",
    "        \n",
    "    return unique_message_list"
   ]
  },
  {
   "cell_type": "code",
   "execution_count": 259,
   "metadata": {},
   "outputs": [
    {
     "name": "stdout",
     "output_type": "stream",
     "text": [
      "Message id:  2078055\n",
      "Cosine Sim Val : -0.16078783366683957\n",
      "Message id:  2078100\n",
      "Cosine Sim Val : -0.13244406223823568\n",
      "Message id:  2078102\n",
      "Cosine Sim Val : -0.11639643344889006\n",
      "Message id:  2043996\n",
      "Cosine Sim Val : -0.11535621128319651\n",
      "Message id:  2115391\n",
      "Cosine Sim Val : -0.10082256848112325\n"
     ]
    }
   ],
   "source": [
    "# Fetching message IDs with cosine similarity <= -0.09\n",
    "\n",
    "sorted_cosine_similarities = get_computed_similarities(vectors=doc2vec_vectors_test, predicted_vectors=predicted_vectors_test)\n",
    "unique_message_list=display_unique(sorted_cosine_similarities)\n"
   ]
  },
  {
   "cell_type": "code",
   "execution_count": 260,
   "metadata": {},
   "outputs": [
    {
     "name": "stdout",
     "output_type": "stream",
     "text": [
      "Unique messages count: 5\n"
     ]
    }
   ],
   "source": [
    "# Estimated count of unique messages\n",
    "print('Unique messages count: '+str(len(unique_message_list)))"
   ]
  },
  {
   "cell_type": "code",
   "execution_count": 261,
   "metadata": {},
   "outputs": [],
   "source": [
    "# List of anomalous messages\n",
    "messages = df_present[df_present['msg_id'].isin(unique_message_list)]['msg_text'].tolist()\n",
    "message_dates = df_present[df_present['msg_id'].isin(unique_message_list)]['msg_timestamp'].tolist()"
   ]
  },
  {
   "cell_type": "code",
   "execution_count": 265,
   "metadata": {},
   "outputs": [
    {
     "data": {
      "text/plain": [
       "'`return resolved;` might be missing here'"
      ]
     },
     "execution_count": 265,
     "metadata": {},
     "output_type": "execute_result"
    }
   ],
   "source": [
    "messages[1]"
   ]
  },
  {
   "cell_type": "code",
   "execution_count": 267,
   "metadata": {},
   "outputs": [],
   "source": [
    "df = pd.DataFrame(list(zip(message_dates, messages)), \n",
    "               columns =['date', 'message']) "
   ]
  },
  {
   "cell_type": "code",
   "execution_count": 268,
   "metadata": {},
   "outputs": [],
   "source": [
    "anomalies = pd.DataFrame(df.groupby(['date'])['message'].count())\n",
    "anomalies.columns=['count']"
   ]
  },
  {
   "cell_type": "code",
   "execution_count": 269,
   "metadata": {},
   "outputs": [],
   "source": [
    "idx = pd.date_range(anomalies.index.min(), anomalies.index.max())\n",
    "anomalies = anomalies.reindex(idx, fill_value=0)"
   ]
  },
  {
   "cell_type": "code",
   "execution_count": 272,
   "metadata": {},
   "outputs": [
    {
     "data": {
      "text/plain": [
       "<matplotlib.legend.Legend at 0x7fbfe3f0d518>"
      ]
     },
     "execution_count": 272,
     "metadata": {},
     "output_type": "execute_result"
    },
    {
     "data": {
      "image/png": "[encoded data removed]",
      "text/plain": [
       "<Figure size 1080x360 with 1 Axes>"
      ]
     },
     "metadata": {
      "needs_background": "light"
     },
     "output_type": "display_data"
    }
   ],
   "source": [
    "plt.figure(figsize=(15,5))\n",
    "plt.title(\"Distribution of #Unique messages over time\")\n",
    "plt.plot(anomalies.index,anomalies['count'])\n",
    "plt.legend(['y = #unique messages'], loc='upper left')"
   ]
  },
  {
   "cell_type": "code",
   "execution_count": null,
   "metadata": {},
   "outputs": [],
   "source": []
  }
 ],
 "metadata": {
  "kernelspec": {
   "display_name": "augur_env",
   "language": "python",
   "name": "augur_env"
  },
  "language_info": {
   "codemirror_mode": {
    "name": "ipython",
    "version": 3
   },
   "file_extension": ".py",
   "mimetype": "text/x-python",
   "name": "python",
   "nbconvert_exporter": "python",
   "pygments_lexer": "ipython3",
   "version": "3.7.3"
  }
 },
 "nbformat": 4,
 "nbformat_minor": 2
}
